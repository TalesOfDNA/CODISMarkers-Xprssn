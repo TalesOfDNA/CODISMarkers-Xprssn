{
 "cells": [
  {
   "cell_type": "code",
   "execution_count": 1,
   "metadata": {
    "vscode": {
     "languageId": "r"
    }
   },
   "outputs": [
    {
     "name": "stderr",
     "output_type": "stream",
     "text": [
      "Loading required package: usethis\n",
      "\n",
      "Downloading GitHub repo cjvanlissa/metaforest@HEAD\n",
      "\n"
     ]
    },
    {
     "name": "stdout",
     "output_type": "stream",
     "text": [
      "Rcpp         (1.0.7  -> 1.0.9    ) [CRAN]\n",
      "utf8         (1.2.1  -> 1.2.2    ) [CRAN]\n",
      "magrittr     (2.0.1  -> 2.0.3    ) [CRAN]\n",
      "fansi        (0.5.0  -> 1.0.3    ) [CRAN]\n",
      "colorspace   (2.0-2  -> 2.0-3    ) [CRAN]\n",
      "RColorBrewer (1.1-2  -> 1.1-3    ) [CRAN]\n",
      "R6           (2.5.0  -> 2.5.1    ) [CRAN]\n",
      "farver       (2.1.0  -> 2.1.1    ) [CRAN]\n",
      "RcppEigen    (NA     -> 0.3.3.9.2) [CRAN]\n",
      "scales       (1.1.1  -> 1.2.0    ) [CRAN]\n",
      "isoband      (0.2.4  -> 0.2.5    ) [CRAN]\n",
      "digest       (0.6.27 -> 0.6.29   ) [CRAN]\n",
      "data.table   (1.13.4 -> 1.14.2   ) [CRAN]\n",
      "ranger       (NA     -> 0.14.1   ) [CRAN]\n",
      "ggplot2      (3.3.5  -> 3.3.6    ) [CRAN]\n"
     ]
    },
    {
     "name": "stderr",
     "output_type": "stream",
     "text": [
      "Skipping 1 packages not available: metafor\n",
      "\n",
      "Installing 16 packages: Rcpp, utf8, magrittr, fansi, colorspace, RColorBrewer, R6, farver, RcppEigen, scales, isoband, digest, data.table, ranger, metafor, ggplot2\n",
      "\n",
      "Warning message:\n",
      "\"package 'metafor' is not available (for R version 3.6.1)\"\n"
     ]
    },
    {
     "name": "stdout",
     "output_type": "stream",
     "text": [
      "\n",
      "  There are binary versions available but the source versions are later:\n",
      "                binary    source needs_compilation\n",
      "Rcpp             1.0.8     1.0.9              TRUE\n",
      "magrittr         2.0.2     2.0.3              TRUE\n",
      "fansi            1.0.2     1.0.3              TRUE\n",
      "colorspace       2.0-2     2.0-3              TRUE\n",
      "RColorBrewer     1.1-2     1.1-3             FALSE\n",
      "farver           2.1.0     2.1.1              TRUE\n",
      "RcppEigen    0.3.3.9.1 0.3.3.9.2              TRUE\n",
      "scales           1.1.1     1.2.0             FALSE\n",
      "ranger          0.13.1    0.14.1              TRUE\n",
      "ggplot2          3.3.5     3.3.6             FALSE\n",
      "\n",
      "\n",
      "The downloaded binary packages are in\n",
      "\t/var/folders/3y/k69g_mh519903sc_28fgjmmw0000gn/T//RtmpnQoOug/downloaded_packages\n"
     ]
    },
    {
     "name": "stderr",
     "output_type": "stream",
     "text": [
      "installing the source packages 'Rcpp', 'magrittr', 'fansi', 'colorspace', 'RColorBrewer', 'farver', 'RcppEigen', 'scales', 'ranger', 'ggplot2'\n",
      "\n",
      "\n",
      "Warning message in i.p(...):\n",
      "\"installation of package 'RcppEigen' had non-zero exit status\"\n",
      "Warning message in i.p(...):\n",
      "\"installation of package 'ranger' had non-zero exit status\"\n"
     ]
    },
    {
     "name": "stdout",
     "output_type": "stream",
     "text": [
      "* checking for file '/private/var/folders/3y/k69g_mh519903sc_28fgjmmw0000gn/T/RtmpnQoOug/remotes14df71927dc88/cjvanlissa-metaforest-d355a7c/DESCRIPTION' ... OK\n",
      "* preparing 'metaforest':\n",
      "* checking DESCRIPTION meta-information ... OK\n",
      "* checking for LF line-endings in source and make files and shell scripts\n",
      "* checking for empty or unneeded directories\n",
      "Removed empty directory 'metaforest/docs'\n",
      "* looking to see if a 'data/datalist' file should be added\n",
      "* building 'metaforest_0.1.4.8.tar.gz'\n",
      "\n"
     ]
    },
    {
     "name": "stderr",
     "output_type": "stream",
     "text": [
      "Warning message in i.p(...):\n",
      "\"installation of package '/var/folders/3y/k69g_mh519903sc_28fgjmmw0000gn/T//RtmpnQoOug/file14df77961f9b1/metaforest_0.1.4.8.tar.gz' had non-zero exit status\"\n",
      "Warning message:\n",
      "\"package 'metafor' is not available (for R version 3.6.1)\"\n"
     ]
    }
   ],
   "source": [
    "# install.packages(\"tidyverse\")\n",
    "# install.packages(\"meta\")\n",
    "# install.packages(\"devtools\")\n",
    "library(devtools)\n",
    "install_github(\"cjvanlissa/metaforest\")\n",
    "install.packages(\"metafor\")\n",
    "\n",
    "\n",
    "#devtools::install_github(\"MathiasHarrer/dmetar\")"
   ]
  },
  {
   "cell_type": "code",
   "execution_count": null,
   "metadata": {
    "vscode": {
     "languageId": "r"
    }
   },
   "outputs": [],
   "source": [
    "\n"
   ]
  },
  {
   "cell_type": "code",
   "execution_count": null,
   "metadata": {
    "vscode": {
     "languageId": "r"
    }
   },
   "outputs": [],
   "source": []
  },
  {
   "cell_type": "code",
   "execution_count": 6,
   "metadata": {
    "vscode": {
     "languageId": "r"
    }
   },
   "outputs": [
    {
     "data": {
      "text/plain": [
       "R version 3.6.1 (2019-07-05)\n",
       "Platform: x86_64-apple-darwin15.6.0 (64-bit)\n",
       "Running under: macOS  10.16\n",
       "\n",
       "Matrix products: default\n",
       "BLAS:   /Library/Frameworks/R.framework/Versions/3.6/Resources/lib/libRblas.0.dylib\n",
       "LAPACK: /Library/Frameworks/R.framework/Versions/3.6/Resources/lib/libRlapack.dylib\n",
       "\n",
       "locale:\n",
       "[1] C\n",
       "\n",
       "attached base packages:\n",
       "[1] stats     graphics  grDevices utils     datasets  methods   base     \n",
       "\n",
       "loaded via a namespace (and not attached):\n",
       " [1] fansi_0.5.0     digest_0.6.27   utf8_1.2.1      crayon_1.5.1   \n",
       " [5] IRdisplay_0.7.0 repr_1.1.0      lifecycle_1.0.1 jsonlite_1.7.2 \n",
       " [9] evaluate_0.14   pillar_1.8.0    cli_3.3.0       rlang_1.0.4    \n",
       "[13] uuid_0.1-4      fs_1.5.2        vctrs_0.4.1     ellipsis_0.3.2 \n",
       "[17] IRkernel_1.1.1  tools_3.6.1     compiler_3.6.1  base64enc_0.1-3\n",
       "[21] pbdZMQ_0.3-4    htmltools_0.5.3"
      ]
     },
     "metadata": {},
     "output_type": "display_data"
    }
   ],
   "source": [
    "sessionInfo()"
   ]
  },
  {
   "cell_type": "markdown",
   "metadata": {},
   "source": []
  }
 ],
 "metadata": {
  "kernelspec": {
   "display_name": "R",
   "language": "R",
   "name": "ir"
  },
  "language_info": {
   "codemirror_mode": "r",
   "file_extension": ".r",
   "mimetype": "text/x-r-source",
   "name": "R",
   "pygments_lexer": "r",
   "version": "3.6.1"
  },
  "orig_nbformat": 4,
  "vscode": {
   "interpreter": {
    "hash": "978407d321d9a304b64835d5c8a37594f440291f3e0fb3903fa186a4f2dd6b7f"
   }
  }
 },
 "nbformat": 4,
 "nbformat_minor": 2
}
