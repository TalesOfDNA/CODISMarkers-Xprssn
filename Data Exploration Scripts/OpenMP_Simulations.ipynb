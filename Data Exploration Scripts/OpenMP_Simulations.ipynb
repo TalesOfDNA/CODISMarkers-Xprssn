{
 "cells": [
  {
   "cell_type": "code",
   "execution_count": 35,
   "metadata": {
    "vscode": {
     "languageId": "r"
    }
   },
   "outputs": [],
   "source": [
    "### Set the Seed for the analysis ###\n",
    "#set.seed(11151990)\n",
    "\n",
    "# Data are p single nucleotide polymorphisms (SNPs) with simulated genotypes.\n",
    "# Simulation Parameters: \n",
    "# (1) ind = # of samples \n",
    "# (2) nsnp = # of SNPs or genotypes\n",
    "# (3) PVE = phenotypic variance explained/narrow-sense heritability (H^2)\n",
    "# (4) rho = measures the portion of H^2 that is contributed by the marginal (additive) effects\n",
    "\n",
    "pve=0.6\n",
    "\n",
    "### Simulate the genotypes such that all variants have minor allele frequency (MAF) > 0.05 ###\n",
    "# NOTE: As in the paper, we center and scale each genotypic vector such that every SNP has mean 0 and standard deviation 1.\n",
    "X =  data.matrix(read.csv(\"../100_EUR_Genos.csv\", header = TRUE, row.names = 1,\n",
    "                           sep = \",\"))\n",
    "dimnames(X) <- NULL\n",
    "ind = dim(X)[1]\n",
    "nsnp = dim(X)[2]\n",
    "Xmean=apply(X, 2, mean); Xsd=apply(X, 2, sd); X=t((t(X)-Xmean)/Xsd)\n",
    "\n"
   ]
  },
  {
   "cell_type": "code",
   "execution_count": null,
   "metadata": {
    "vscode": {
     "languageId": "r"
    }
   },
   "outputs": [],
   "source": [
    "### Set the size of causal SNP groups ###\n",
    "ncausal= 4 # Set number of causal SNPs \n",
    "\n",
    "### Select causal SNPs in groups 1 and 2 ###\n",
    "snp.ids = 1:nsnp\n",
    "s=sample(snp.ids, ncausal, replace=F)\n",
    "\n",
    "### Simulate marginal (additive) effects ###\n",
    "Xmarginal=X[,s]\n",
    "beta=rnorm(dim(Xmarginal)[2])\n",
    "y_marginal=c(Xmarginal%*%beta)\n",
    "beta=beta*sqrt(pve/var(y_marginal))\n",
    "beta\n",
    "y_marginal=Xmarginal%*%beta\n",
    "\n",
    "# NOTE: Each effect size for the marginal, epistatic, and random error effects are drawn from a standard normal distribution. Meaning beta ~ MVN(0,I) and epsilon ~ MVN(0,I). We then scale both the additive genetic effects so that collectively they explain a fixed proportion of genetic variance. Namely, the additive effects make up the narrow-sense heritability (or h^2). Once we obtain the final effect sizes for all causal SNPs, we draw errors to achieve the target 1-h^2.\n",
    "\n",
    "### Simulate residual error ###\n",
    "y_err=rnorm(ind)\n",
    "y_err=y_err*sqrt((1-pve)/var(y_err))\n",
    "\n",
    "# Simulate the continuous phenotypes\n",
    "y = y_marginal+y_err\n",
    "\n",
    "### Check dimensions and add SNP names ###\n",
    "dim(X); dim(y)\n",
    "colnames(X) = paste(\"SNP\",1:ncol(X),sep=\"\")\n",
    "\n",
    "### Save the names of the causal SNPs ###\n",
    "SNPs = colnames(X)[s]"
   ]
  },
  {
   "cell_type": "code",
   "execution_count": null,
   "metadata": {
    "vscode": {
     "languageId": "r"
    }
   },
   "outputs": [],
   "source": [
    "### Set the size of causal SNP groups ###\n",
    "ncausal= 10 # Set number of causal SNPs \n",
    "\n",
    "### Select causal SNPs in groups 1 and 2 ###\n",
    "snp.ids = 1:nsnp\n",
    "s=sample(snp.ids, ncausal, replace=F)\n",
    "\n",
    "### Simulate marginal (additive) effects ###\n",
    "Xmarginal=X[,s]\n",
    "beta=rnorm(dim(Xmarginal)[2])\n",
    "y_marginal=c(Xmarginal%*%beta)\n",
    "beta=beta*sqrt(pve/var(y_marginal))\n",
    "y_marginal=Xmarginal%*%beta\n",
    "\n",
    "# NOTE: Each effect size for the marginal, epistatic, and random error effects are drawn from a standard normal distribution. Meaning beta ~ MVN(0,I) and epsilon ~ MVN(0,I). We then scale both the additive genetic effects so that collectively they explain a fixed proportion of genetic variance. Namely, the additive effects make up the narrow-sense heritability (or h^2). Once we obtain the final effect sizes for all causal SNPs, we draw errors to achieve the target 1-h^2.\n",
    "\n",
    "### Simulate residual error ###\n",
    "y_err=rnorm(ind)\n",
    "y_err=y_err*sqrt((1-pve)/var(y_err))\n",
    "\n",
    "# Simulate the continuous phenotypes\n",
    "y = y_marginal+y_err\n",
    "\n",
    "### Check dimensions and add SNP names ###\n",
    "dim(X); dim(y)\n",
    "colnames(X) = paste(\"SNP\",1:ncol(X),sep=\"\")\n",
    "\n",
    "### Save the names of the causal SNPs ###\n",
    "SNPs = colnames(X)[s]"
   ]
  },
  {
   "cell_type": "code",
   "execution_count": null,
   "metadata": {
    "vscode": {
     "languageId": "r"
    }
   },
   "outputs": [],
   "source": []
  }
 ],
 "metadata": {
  "kernelspec": {
   "display_name": "R",
   "language": "R",
   "name": "ir"
  },
  "language_info": {
   "codemirror_mode": "r",
   "file_extension": ".r",
   "mimetype": "text/x-r-source",
   "name": "R",
   "pygments_lexer": "r",
   "version": "4.1.3"
  },
  "orig_nbformat": 4
 },
 "nbformat": 4,
 "nbformat_minor": 2
}
