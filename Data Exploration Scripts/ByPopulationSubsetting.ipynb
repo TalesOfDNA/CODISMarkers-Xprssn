{
 "cells": [
  {
   "cell_type": "code",
   "execution_count": 1,
   "metadata": {},
   "outputs": [],
   "source": [
    "import pandas as pd\n",
    "import numpy as np"
   ]
  },
  {
   "cell_type": "code",
   "execution_count": 7,
   "metadata": {},
   "outputs": [],
   "source": [
    "file_dir = \"../AroundSTRs/Gymrek_GenotypesAroundSTRs/\""
   ]
  },
  {
   "cell_type": "code",
   "execution_count": 11,
   "metadata": {},
   "outputs": [
    {
     "data": {
      "text/plain": [
       "(2513,)"
      ]
     },
     "execution_count": 11,
     "metadata": {},
     "output_type": "execute_result"
    }
   ],
   "source": [
    "header = np.genfromtxt(file_dir + \"Header.txt\", dtype=str, delimiter=\"\\t\")\n"
   ]
  },
  {
   "cell_type": "code",
   "execution_count": 14,
   "metadata": {},
   "outputs": [
    {
     "data": {
      "text/html": [
       "<div>\n",
       "<style scoped>\n",
       "    .dataframe tbody tr th:only-of-type {\n",
       "        vertical-align: middle;\n",
       "    }\n",
       "\n",
       "    .dataframe tbody tr th {\n",
       "        vertical-align: top;\n",
       "    }\n",
       "\n",
       "    .dataframe thead th {\n",
       "        text-align: right;\n",
       "    }\n",
       "</style>\n",
       "<table border=\"1\" class=\"dataframe\">\n",
       "  <thead>\n",
       "    <tr style=\"text-align: right;\">\n",
       "      <th></th>\n",
       "      <th>CHROM</th>\n",
       "      <th>POS</th>\n",
       "      <th>ID</th>\n",
       "      <th>REF</th>\n",
       "      <th>ALT</th>\n",
       "      <th>QUAL</th>\n",
       "      <th>FILTER</th>\n",
       "      <th>INFO</th>\n",
       "      <th>FORMAT</th>\n",
       "      <th>HG00096</th>\n",
       "      <th>...</th>\n",
       "      <th>NA21128</th>\n",
       "      <th>NA21129</th>\n",
       "      <th>NA21130</th>\n",
       "      <th>NA21133</th>\n",
       "      <th>NA21135</th>\n",
       "      <th>NA21137</th>\n",
       "      <th>NA21141</th>\n",
       "      <th>NA21142</th>\n",
       "      <th>NA21143</th>\n",
       "      <th>NA21144</th>\n",
       "    </tr>\n",
       "  </thead>\n",
       "  <tbody>\n",
       "    <tr>\n",
       "      <th>0</th>\n",
       "      <td>5</td>\n",
       "      <td>149355890</td>\n",
       "      <td>rs151108572</td>\n",
       "      <td>A</td>\n",
       "      <td>G</td>\n",
       "      <td>.</td>\n",
       "      <td>PASS</td>\n",
       "      <td>AR2=1.00;DR2=1.00;AF=0.0044</td>\n",
       "      <td>GT:DS</td>\n",
       "      <td>0|0:0</td>\n",
       "      <td>...</td>\n",
       "      <td>0|0:0</td>\n",
       "      <td>0|0:0</td>\n",
       "      <td>0|0:0</td>\n",
       "      <td>0|0:0</td>\n",
       "      <td>0|0:0</td>\n",
       "      <td>0|0:0</td>\n",
       "      <td>0|0:0</td>\n",
       "      <td>0|0:0</td>\n",
       "      <td>0|0:0</td>\n",
       "      <td>0|0:0</td>\n",
       "    </tr>\n",
       "    <tr>\n",
       "      <th>1</th>\n",
       "      <td>5</td>\n",
       "      <td>149355953</td>\n",
       "      <td>rs371565044</td>\n",
       "      <td>A</td>\n",
       "      <td>G</td>\n",
       "      <td>.</td>\n",
       "      <td>PASS</td>\n",
       "      <td>AR2=1.00;DR2=1.00;AF=0.00020</td>\n",
       "      <td>GT:DS</td>\n",
       "      <td>0|0:0</td>\n",
       "      <td>...</td>\n",
       "      <td>0|0:0</td>\n",
       "      <td>0|0:0</td>\n",
       "      <td>0|0:0</td>\n",
       "      <td>0|0:0</td>\n",
       "      <td>0|0:0</td>\n",
       "      <td>0|0:0</td>\n",
       "      <td>0|0:0</td>\n",
       "      <td>0|0:0</td>\n",
       "      <td>0|0:0</td>\n",
       "      <td>0|0:0</td>\n",
       "    </tr>\n",
       "    <tr>\n",
       "      <th>2</th>\n",
       "      <td>5</td>\n",
       "      <td>149356003</td>\n",
       "      <td>rs141357640</td>\n",
       "      <td>A</td>\n",
       "      <td>G</td>\n",
       "      <td>.</td>\n",
       "      <td>PASS</td>\n",
       "      <td>AR2=1.00;DR2=1.00;AF=0.0044</td>\n",
       "      <td>GT:DS</td>\n",
       "      <td>0|0:0</td>\n",
       "      <td>...</td>\n",
       "      <td>0|0:0</td>\n",
       "      <td>1|0:1</td>\n",
       "      <td>0|0:0</td>\n",
       "      <td>0|0:0</td>\n",
       "      <td>0|0:0</td>\n",
       "      <td>0|0:0</td>\n",
       "      <td>0|0:0</td>\n",
       "      <td>0|0:0</td>\n",
       "      <td>0|0:0</td>\n",
       "      <td>0|0:0</td>\n",
       "    </tr>\n",
       "    <tr>\n",
       "      <th>3</th>\n",
       "      <td>5</td>\n",
       "      <td>149356486</td>\n",
       "      <td>rs3756307</td>\n",
       "      <td>G</td>\n",
       "      <td>A</td>\n",
       "      <td>.</td>\n",
       "      <td>PASS</td>\n",
       "      <td>AR2=1.00;DR2=1.00;AF=0.13</td>\n",
       "      <td>GT:DS</td>\n",
       "      <td>0|0:0</td>\n",
       "      <td>...</td>\n",
       "      <td>0|0:0</td>\n",
       "      <td>0|0:0</td>\n",
       "      <td>1|0:1</td>\n",
       "      <td>0|0:0</td>\n",
       "      <td>0|0:0</td>\n",
       "      <td>0|0:0</td>\n",
       "      <td>0|1:1</td>\n",
       "      <td>0|1:1</td>\n",
       "      <td>0|0:0</td>\n",
       "      <td>0|0:0</td>\n",
       "    </tr>\n",
       "    <tr>\n",
       "      <th>4</th>\n",
       "      <td>5</td>\n",
       "      <td>149356547</td>\n",
       "      <td>rs150412774</td>\n",
       "      <td>A</td>\n",
       "      <td>G</td>\n",
       "      <td>.</td>\n",
       "      <td>PASS</td>\n",
       "      <td>AR2=1.00;DR2=1.00;AF=0.011</td>\n",
       "      <td>GT:DS</td>\n",
       "      <td>0|0:0</td>\n",
       "      <td>...</td>\n",
       "      <td>0|0:0</td>\n",
       "      <td>0|0:0</td>\n",
       "      <td>0|0:0</td>\n",
       "      <td>0|0:0</td>\n",
       "      <td>0|0:0</td>\n",
       "      <td>0|0:0</td>\n",
       "      <td>0|0:0</td>\n",
       "      <td>0|0:0</td>\n",
       "      <td>0|0:0</td>\n",
       "      <td>0|0:0</td>\n",
       "    </tr>\n",
       "  </tbody>\n",
       "</table>\n",
       "<p>5 rows × 2513 columns</p>\n",
       "</div>"
      ],
      "text/plain": [
       "   CHROM        POS           ID REF ALT QUAL FILTER  \\\n",
       "0      5  149355890  rs151108572   A   G    .   PASS   \n",
       "1      5  149355953  rs371565044   A   G    .   PASS   \n",
       "2      5  149356003  rs141357640   A   G    .   PASS   \n",
       "3      5  149356486    rs3756307   G   A    .   PASS   \n",
       "4      5  149356547  rs150412774   A   G    .   PASS   \n",
       "\n",
       "                           INFO FORMAT HG00096  ... NA21128 NA21129 NA21130  \\\n",
       "0   AR2=1.00;DR2=1.00;AF=0.0044  GT:DS   0|0:0  ...   0|0:0   0|0:0   0|0:0   \n",
       "1  AR2=1.00;DR2=1.00;AF=0.00020  GT:DS   0|0:0  ...   0|0:0   0|0:0   0|0:0   \n",
       "2   AR2=1.00;DR2=1.00;AF=0.0044  GT:DS   0|0:0  ...   0|0:0   1|0:1   0|0:0   \n",
       "3     AR2=1.00;DR2=1.00;AF=0.13  GT:DS   0|0:0  ...   0|0:0   0|0:0   1|0:1   \n",
       "4    AR2=1.00;DR2=1.00;AF=0.011  GT:DS   0|0:0  ...   0|0:0   0|0:0   0|0:0   \n",
       "\n",
       "  NA21133 NA21135 NA21137 NA21141 NA21142 NA21143 NA21144  \n",
       "0   0|0:0   0|0:0   0|0:0   0|0:0   0|0:0   0|0:0   0|0:0  \n",
       "1   0|0:0   0|0:0   0|0:0   0|0:0   0|0:0   0|0:0   0|0:0  \n",
       "2   0|0:0   0|0:0   0|0:0   0|0:0   0|0:0   0|0:0   0|0:0  \n",
       "3   0|0:0   0|0:0   0|0:0   0|1:1   0|1:1   0|0:0   0|0:0  \n",
       "4   0|0:0   0|0:0   0|0:0   0|0:0   0|0:0   0|0:0   0|0:0  \n",
       "\n",
       "[5 rows x 2513 columns]"
      ]
     },
     "execution_count": 14,
     "metadata": {},
     "output_type": "execute_result"
    }
   ],
   "source": [
    "STR = \"CSF1PO\"\n",
    "CSF1PO = pd.read_csv(file_dir + STR + \"_100kb_SNPVariants.vcf\", names=header, delimiter=\"\\t\")\n",
    "CSF1PO.head()"
   ]
  },
  {
   "cell_type": "code",
   "execution_count": null,
   "metadata": {},
   "outputs": [],
   "source": [
    "pop_info = pd.read_csv(\"../1000Genomes_samples.tsv\", sep=\"\\t\")\n",
    "pop_info.head()"
   ]
  },
  {
   "cell_type": "code",
   "execution_count": 26,
   "metadata": {},
   "outputs": [
    {
     "data": {
      "text/plain": [
       "(184,)"
      ]
     },
     "execution_count": 26,
     "metadata": {},
     "output_type": "execute_result"
    }
   ],
   "source": [
    "# Subset CEU\n",
    "FIN = pop_info.loc[pop_info[\"Population code\"] == \"CEU\"]\n",
    "samples_FIN = FIN[\"Sample name\"].to_numpy()\n",
    "samples_FIN.shape\n",
    "# FIN_df = CSF1PO[[samples_FIN]]\n",
    "# FIN_df"
   ]
  },
  {
   "cell_type": "code",
   "execution_count": null,
   "metadata": {},
   "outputs": [],
   "source": []
  }
 ],
 "metadata": {
  "kernelspec": {
   "display_name": "Python 3.9.10 ('python3.9')",
   "language": "python",
   "name": "python3"
  },
  "language_info": {
   "codemirror_mode": {
    "name": "ipython",
    "version": 3
   },
   "file_extension": ".py",
   "mimetype": "text/x-python",
   "name": "python",
   "nbconvert_exporter": "python",
   "pygments_lexer": "ipython3",
   "version": "3.9.10"
  },
  "orig_nbformat": 4,
  "vscode": {
   "interpreter": {
    "hash": "978407d321d9a304b64835d5c8a37594f440291f3e0fb3903fa186a4f2dd6b7f"
   }
  }
 },
 "nbformat": 4,
 "nbformat_minor": 2
}
