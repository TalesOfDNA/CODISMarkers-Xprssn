{
 "cells": [
  {
   "cell_type": "code",
   "execution_count": null,
   "metadata": {
    "vscode": {
     "languageId": "r"
    }
   },
   "outputs": [],
   "source": []
  },
  {
   "cell_type": "code",
   "execution_count": null,
   "metadata": {
    "vscode": {
     "languageId": "r"
    }
   },
   "outputs": [],
   "source": []
  },
  {
   "cell_type": "code",
   "execution_count": 12,
   "metadata": {
    "vscode": {
     "languageId": "r"
    }
   },
   "outputs": [],
   "source": [
    "\t\n",
    "# Read gene expression\n",
    "# real_expression <- read.csv(\"../GeneExpressionFiles/ALL.txt\", sep=\"\\t\")\n",
    "# exp_vector = real_expression$CSF1R\n",
    "# sorted = sort(exp_vector, decreasing = TRUE)\n",
    "# sorted"
   ]
  },
  {
   "cell_type": "markdown",
   "metadata": {},
   "source": [
    "## PREPARE DATA FOR META ANALYSIS"
   ]
  },
  {
   "cell_type": "code",
   "execution_count": 178,
   "metadata": {
    "vscode": {
     "languageId": "r"
    }
   },
   "outputs": [
    {
     "data": {
      "text/html": [
       "<style>\n",
       ".list-inline {list-style: none; margin:0; padding: 0}\n",
       ".list-inline>li {display: inline-block}\n",
       ".list-inline>li:not(:last-child)::after {content: \"\\00b7\"; padding: 0 .5ex}\n",
       "</style>\n",
       "<ol class=list-inline><li>'ID'</li><li>'Beta'</li><li>'KDSR'</li><li>'LARS2'</li><li>'CSF1R'</li><li>'PDGFRB'</li><li>'TIGD6'</li><li>'RPS20P4'</li><li>'RPL7P1'</li><li>'HMGXB3'</li><li>'SLC26A2'</li><li>'C1orf198'</li><li>'COG2'</li><li>'C1D'</li><li>'CXCR2P1'</li><li>'RUFY4'</li><li>'TNS1'</li><li>'LIMD1'</li><li>'SEMA3A'</li><li>'ZNF572'</li><li>'RP11.1082L8'</li><li>'LOH12CR2'</li><li>'MANSC1'</li><li>'BORCS5'</li><li>'LRP6'</li><li>'BCL2'</li><li>'RPL9P32'</li><li>'URI1'</li><li>'SSTR3'</li><li>'IL2RB'</li><li>'C1QTNF6'</li><li>'KCTD17'</li><li>'Z82188'</li><li>'TMPRSS6'</li><li>'RP1.151B14.6'</li><li>'RAC2'</li><li>'DCHS2'</li><li>'PLRG1'</li><li>'RP11.158C21.3'</li><li>'TPO'</li><li>'VWF'</li><li>'Population'</li></ol>\n"
      ],
      "text/latex": [
       "\\begin{enumerate*}\n",
       "\\item 'ID'\n",
       "\\item 'Beta'\n",
       "\\item 'KDSR'\n",
       "\\item 'LARS2'\n",
       "\\item 'CSF1R'\n",
       "\\item 'PDGFRB'\n",
       "\\item 'TIGD6'\n",
       "\\item 'RPS20P4'\n",
       "\\item 'RPL7P1'\n",
       "\\item 'HMGXB3'\n",
       "\\item 'SLC26A2'\n",
       "\\item 'C1orf198'\n",
       "\\item 'COG2'\n",
       "\\item 'C1D'\n",
       "\\item 'CXCR2P1'\n",
       "\\item 'RUFY4'\n",
       "\\item 'TNS1'\n",
       "\\item 'LIMD1'\n",
       "\\item 'SEMA3A'\n",
       "\\item 'ZNF572'\n",
       "\\item 'RP11.1082L8'\n",
       "\\item 'LOH12CR2'\n",
       "\\item 'MANSC1'\n",
       "\\item 'BORCS5'\n",
       "\\item 'LRP6'\n",
       "\\item 'BCL2'\n",
       "\\item 'RPL9P32'\n",
       "\\item 'URI1'\n",
       "\\item 'SSTR3'\n",
       "\\item 'IL2RB'\n",
       "\\item 'C1QTNF6'\n",
       "\\item 'KCTD17'\n",
       "\\item 'Z82188'\n",
       "\\item 'TMPRSS6'\n",
       "\\item 'RP1.151B14.6'\n",
       "\\item 'RAC2'\n",
       "\\item 'DCHS2'\n",
       "\\item 'PLRG1'\n",
       "\\item 'RP11.158C21.3'\n",
       "\\item 'TPO'\n",
       "\\item 'VWF'\n",
       "\\item 'Population'\n",
       "\\end{enumerate*}\n"
      ],
      "text/markdown": [
       "1. 'ID'\n",
       "2. 'Beta'\n",
       "3. 'KDSR'\n",
       "4. 'LARS2'\n",
       "5. 'CSF1R'\n",
       "6. 'PDGFRB'\n",
       "7. 'TIGD6'\n",
       "8. 'RPS20P4'\n",
       "9. 'RPL7P1'\n",
       "10. 'HMGXB3'\n",
       "11. 'SLC26A2'\n",
       "12. 'C1orf198'\n",
       "13. 'COG2'\n",
       "14. 'C1D'\n",
       "15. 'CXCR2P1'\n",
       "16. 'RUFY4'\n",
       "17. 'TNS1'\n",
       "18. 'LIMD1'\n",
       "19. 'SEMA3A'\n",
       "20. 'ZNF572'\n",
       "21. 'RP11.1082L8'\n",
       "22. 'LOH12CR2'\n",
       "23. 'MANSC1'\n",
       "24. 'BORCS5'\n",
       "25. 'LRP6'\n",
       "26. 'BCL2'\n",
       "27. 'RPL9P32'\n",
       "28. 'URI1'\n",
       "29. 'SSTR3'\n",
       "30. 'IL2RB'\n",
       "31. 'C1QTNF6'\n",
       "32. 'KCTD17'\n",
       "33. 'Z82188'\n",
       "34. 'TMPRSS6'\n",
       "35. 'RP1.151B14.6'\n",
       "36. 'RAC2'\n",
       "37. 'DCHS2'\n",
       "38. 'PLRG1'\n",
       "39. 'RP11.158C21.3'\n",
       "40. 'TPO'\n",
       "41. 'VWF'\n",
       "42. 'Population'\n",
       "\n",
       "\n"
      ],
      "text/plain": [
       " [1] \"ID\"            \"Beta\"          \"KDSR\"          \"LARS2\"        \n",
       " [5] \"CSF1R\"         \"PDGFRB\"        \"TIGD6\"         \"RPS20P4\"      \n",
       " [9] \"RPL7P1\"        \"HMGXB3\"        \"SLC26A2\"       \"C1orf198\"     \n",
       "[13] \"COG2\"          \"C1D\"           \"CXCR2P1\"       \"RUFY4\"        \n",
       "[17] \"TNS1\"          \"LIMD1\"         \"SEMA3A\"        \"ZNF572\"       \n",
       "[21] \"RP11.1082L8\"   \"LOH12CR2\"      \"MANSC1\"        \"BORCS5\"       \n",
       "[25] \"LRP6\"          \"BCL2\"          \"RPL9P32\"       \"URI1\"         \n",
       "[29] \"SSTR3\"         \"IL2RB\"         \"C1QTNF6\"       \"KCTD17\"       \n",
       "[33] \"Z82188\"        \"TMPRSS6\"       \"RP1.151B14.6\"  \"RAC2\"         \n",
       "[37] \"DCHS2\"         \"PLRG1\"         \"RP11.158C21.3\" \"TPO\"          \n",
       "[41] \"VWF\"           \"Population\"   "
      ]
     },
     "metadata": {},
     "output_type": "display_data"
    }
   ],
   "source": [
    "# Load 1000 genomes IDs\n",
    "KG_IDs = read.csv(\"../1000Genomes_samples.tsv\", sep=\"\\t\")\n",
    "KG_IDs = KG_IDs[,c('Sample.name', 'Population.code')]\n",
    "colnames(KG_IDs) = c('ID', 'Population')\n",
    "\n",
    "# Read in expression files for Subpopulation based Analysis\n",
    "real_expression <- read.csv(\"../GeneExpressionFiles/CumulativeSignificant.txt\", sep=\"\\t\")\n",
    "\n",
    "# read genotypes and expression. get linear regression and obtain residuals\n",
    "genos = read.csv(\"../1000Genomes_Beta_Genotypes/CSF1PO_Mem_Genotypes.txt\", sep='\\t')\n",
    "\n",
    "colnames(genos) <- c('ID','Beta')\n",
    "\n",
    "# Merge Dataframes\n",
    "df_merge <- merge(genos,real_expression,by=\"ID\") #Merge STR and Gene Expression\n",
    "df_final = merge(df_merge,KG_IDs, by=\"ID\") # Merge STR-Expression with 1000 genomes IDs and Population \n",
    "names(df_final)\n"
   ]
  },
  {
   "cell_type": "code",
   "execution_count": null,
   "metadata": {
    "vscode": {
     "languageId": "r"
    }
   },
   "outputs": [],
   "source": [
    "# PDGFRB\n",
    "model = lm(Beta~PDGFRB, data=df_final)\n",
    "print(summary(model))\n",
    "print(cor(df_final[\"Beta\"], df_final[\"PDGFRB\"]))"
   ]
  },
  {
   "cell_type": "code",
   "execution_count": null,
   "metadata": {
    "vscode": {
     "languageId": "r"
    }
   },
   "outputs": [],
   "source": [
    "# Linear model Cumulative (TO DOUBLE CHECK RESULTS) LOOKS GOOD\n",
    "model = lm(Beta~CSF1R, data=df_final)\n",
    "print(summary(model))\n",
    "print(cor(df_final[\"Beta\"], df_final[\"CSF1R\"]))"
   ]
  },
  {
   "cell_type": "code",
   "execution_count": null,
   "metadata": {
    "vscode": {
     "languageId": "r"
    }
   },
   "outputs": [],
   "source": [
    "# TIGD6\n",
    "model = lm(Beta~TIGD6, data=df_final)\n",
    "print(summary(model))\n",
    "print(cor(df_final[\"Beta\"], df_final[\"TIGD6\"]))"
   ]
  },
  {
   "cell_type": "code",
   "execution_count": null,
   "metadata": {
    "vscode": {
     "languageId": "r"
    }
   },
   "outputs": [],
   "source": [
    "# RPS20P4\n",
    "model = lm(Beta~RPS20P4, data=df_final)\n",
    "print(summary(model))\n",
    "print(cor(df_final[\"Beta\"], df_final[\"RPS20P4\"]))"
   ]
  },
  {
   "cell_type": "code",
   "execution_count": null,
   "metadata": {
    "vscode": {
     "languageId": "r"
    }
   },
   "outputs": [],
   "source": [
    "# RPL7P1\n",
    "model = lm(Beta~RPL7P1, data=df_final)\n",
    "print(summary(model))\n",
    "print(cor(df_final[\"Beta\"], df_final[\"RPL7P1\"]))"
   ]
  },
  {
   "cell_type": "code",
   "execution_count": null,
   "metadata": {
    "vscode": {
     "languageId": "r"
    }
   },
   "outputs": [],
   "source": [
    "# HMGXB3\n",
    "model = lm(Beta~HMGXB3, data=df_final)\n",
    "print(summary(model))\n",
    "print(cor(df_final[\"Beta\"], df_final[\"HMGXB3\"]))"
   ]
  },
  {
   "cell_type": "code",
   "execution_count": null,
   "metadata": {
    "vscode": {
     "languageId": "r"
    }
   },
   "outputs": [],
   "source": [
    "# SLC26A2\n",
    "model = lm(Beta~SLC26A2, data=df_final)\n",
    "print(summary(model))\n",
    "print(cor(df_final[\"Beta\"], df_final[\"SLC26A2\"]))"
   ]
  },
  {
   "cell_type": "markdown",
   "metadata": {},
   "source": [
    "# D1S1656"
   ]
  },
  {
   "cell_type": "code",
   "execution_count": 116,
   "metadata": {
    "vscode": {
     "languageId": "r"
    }
   },
   "outputs": [
    {
     "data": {
      "text/html": [
       "<style>\n",
       ".list-inline {list-style: none; margin:0; padding: 0}\n",
       ".list-inline>li {display: inline-block}\n",
       ".list-inline>li:not(:last-child)::after {content: \"\\00b7\"; padding: 0 .5ex}\n",
       "</style>\n",
       "<ol class=list-inline><li>'ID'</li><li>'Beta'</li><li>'KDSR'</li><li>'LARS2'</li><li>'CSF1R'</li><li>'PDGFRB'</li><li>'TIGD6'</li><li>'RPS20P4'</li><li>'RPL7P1'</li><li>'HMGXB3'</li><li>'SLC26A2'</li><li>'C1orf198'</li><li>'COG2'</li><li>'C1D'</li><li>'CXCR2P1'</li><li>'RUFY4'</li><li>'TNS1'</li><li>'LIMD1'</li><li>'SEMA3A'</li><li>'ZNF572'</li><li>'RP11.1082L8'</li><li>'LOH12CR2'</li><li>'MANSC1'</li><li>'BORCS5'</li><li>'LRP6'</li><li>'BCL2'</li><li>'RPL9P32'</li><li>'URI1'</li><li>'SSTR3'</li><li>'IL2RB'</li><li>'C1QTNF6'</li><li>'KCTD17'</li><li>'Z82188'</li><li>'TMPRSS6'</li><li>'RP1.151B14.6'</li><li>'RAC2'</li><li>'DCHS2'</li><li>'PLRG1'</li><li>'RP11.158C21.3'</li><li>'TPO'</li><li>'VWF'</li><li>'Population'</li></ol>\n"
      ],
      "text/latex": [
       "\\begin{enumerate*}\n",
       "\\item 'ID'\n",
       "\\item 'Beta'\n",
       "\\item 'KDSR'\n",
       "\\item 'LARS2'\n",
       "\\item 'CSF1R'\n",
       "\\item 'PDGFRB'\n",
       "\\item 'TIGD6'\n",
       "\\item 'RPS20P4'\n",
       "\\item 'RPL7P1'\n",
       "\\item 'HMGXB3'\n",
       "\\item 'SLC26A2'\n",
       "\\item 'C1orf198'\n",
       "\\item 'COG2'\n",
       "\\item 'C1D'\n",
       "\\item 'CXCR2P1'\n",
       "\\item 'RUFY4'\n",
       "\\item 'TNS1'\n",
       "\\item 'LIMD1'\n",
       "\\item 'SEMA3A'\n",
       "\\item 'ZNF572'\n",
       "\\item 'RP11.1082L8'\n",
       "\\item 'LOH12CR2'\n",
       "\\item 'MANSC1'\n",
       "\\item 'BORCS5'\n",
       "\\item 'LRP6'\n",
       "\\item 'BCL2'\n",
       "\\item 'RPL9P32'\n",
       "\\item 'URI1'\n",
       "\\item 'SSTR3'\n",
       "\\item 'IL2RB'\n",
       "\\item 'C1QTNF6'\n",
       "\\item 'KCTD17'\n",
       "\\item 'Z82188'\n",
       "\\item 'TMPRSS6'\n",
       "\\item 'RP1.151B14.6'\n",
       "\\item 'RAC2'\n",
       "\\item 'DCHS2'\n",
       "\\item 'PLRG1'\n",
       "\\item 'RP11.158C21.3'\n",
       "\\item 'TPO'\n",
       "\\item 'VWF'\n",
       "\\item 'Population'\n",
       "\\end{enumerate*}\n"
      ],
      "text/markdown": [
       "1. 'ID'\n",
       "2. 'Beta'\n",
       "3. 'KDSR'\n",
       "4. 'LARS2'\n",
       "5. 'CSF1R'\n",
       "6. 'PDGFRB'\n",
       "7. 'TIGD6'\n",
       "8. 'RPS20P4'\n",
       "9. 'RPL7P1'\n",
       "10. 'HMGXB3'\n",
       "11. 'SLC26A2'\n",
       "12. 'C1orf198'\n",
       "13. 'COG2'\n",
       "14. 'C1D'\n",
       "15. 'CXCR2P1'\n",
       "16. 'RUFY4'\n",
       "17. 'TNS1'\n",
       "18. 'LIMD1'\n",
       "19. 'SEMA3A'\n",
       "20. 'ZNF572'\n",
       "21. 'RP11.1082L8'\n",
       "22. 'LOH12CR2'\n",
       "23. 'MANSC1'\n",
       "24. 'BORCS5'\n",
       "25. 'LRP6'\n",
       "26. 'BCL2'\n",
       "27. 'RPL9P32'\n",
       "28. 'URI1'\n",
       "29. 'SSTR3'\n",
       "30. 'IL2RB'\n",
       "31. 'C1QTNF6'\n",
       "32. 'KCTD17'\n",
       "33. 'Z82188'\n",
       "34. 'TMPRSS6'\n",
       "35. 'RP1.151B14.6'\n",
       "36. 'RAC2'\n",
       "37. 'DCHS2'\n",
       "38. 'PLRG1'\n",
       "39. 'RP11.158C21.3'\n",
       "40. 'TPO'\n",
       "41. 'VWF'\n",
       "42. 'Population'\n",
       "\n",
       "\n"
      ],
      "text/plain": [
       " [1] \"ID\"            \"Beta\"          \"KDSR\"          \"LARS2\"        \n",
       " [5] \"CSF1R\"         \"PDGFRB\"        \"TIGD6\"         \"RPS20P4\"      \n",
       " [9] \"RPL7P1\"        \"HMGXB3\"        \"SLC26A2\"       \"C1orf198\"     \n",
       "[13] \"COG2\"          \"C1D\"           \"CXCR2P1\"       \"RUFY4\"        \n",
       "[17] \"TNS1\"          \"LIMD1\"         \"SEMA3A\"        \"ZNF572\"       \n",
       "[21] \"RP11.1082L8\"   \"LOH12CR2\"      \"MANSC1\"        \"BORCS5\"       \n",
       "[25] \"LRP6\"          \"BCL2\"          \"RPL9P32\"       \"URI1\"         \n",
       "[29] \"SSTR3\"         \"IL2RB\"         \"C1QTNF6\"       \"KCTD17\"       \n",
       "[33] \"Z82188\"        \"TMPRSS6\"       \"RP1.151B14.6\"  \"RAC2\"         \n",
       "[37] \"DCHS2\"         \"PLRG1\"         \"RP11.158C21.3\" \"TPO\"          \n",
       "[41] \"VWF\"           \"Population\"   "
      ]
     },
     "metadata": {},
     "output_type": "display_data"
    }
   ],
   "source": [
    "# read genotypes and expression. get linear regression and obtain residuals\n",
    "genos = read.csv(\"../1000Genomes_Beta_Genotypes/D1S1656_Mem_Genotypes.txt\", sep='\\t')\n",
    "\n",
    "colnames(genos) <- c('ID','Beta')\n",
    "\n",
    "# Merge Dataframes\n",
    "df_merge <- merge(genos,real_expression,by=\"ID\") #Merge STR and Gene Expression\n",
    "df_final = merge(df_merge,KG_IDs, by=\"ID\") # Merge STR-Expression with 1000 genomes IDs and Population \n",
    "names(df_final)"
   ]
  },
  {
   "cell_type": "code",
   "execution_count": null,
   "metadata": {
    "vscode": {
     "languageId": "r"
    }
   },
   "outputs": [],
   "source": [
    "# C1orf198\n",
    "model = lm(Beta~C1orf198, data=df_final)\n",
    "print(summary(model))\n",
    "print(cor(df_final[\"Beta\"], df_final[\"C1orf198\"]))"
   ]
  },
  {
   "cell_type": "code",
   "execution_count": null,
   "metadata": {
    "vscode": {
     "languageId": "r"
    }
   },
   "outputs": [],
   "source": [
    "# COG2\n",
    "model = lm(Beta~COG2, data=df_final)\n",
    "print(summary(model))\n",
    "print(cor(df_final[\"Beta\"], df_final[\"COG2\"]))"
   ]
  },
  {
   "cell_type": "markdown",
   "metadata": {},
   "source": [
    "## D2S441"
   ]
  },
  {
   "cell_type": "code",
   "execution_count": 119,
   "metadata": {
    "vscode": {
     "languageId": "r"
    }
   },
   "outputs": [
    {
     "data": {
      "text/html": [
       "<style>\n",
       ".list-inline {list-style: none; margin:0; padding: 0}\n",
       ".list-inline>li {display: inline-block}\n",
       ".list-inline>li:not(:last-child)::after {content: \"\\00b7\"; padding: 0 .5ex}\n",
       "</style>\n",
       "<ol class=list-inline><li>'ID'</li><li>'Beta'</li><li>'KDSR'</li><li>'LARS2'</li><li>'CSF1R'</li><li>'PDGFRB'</li><li>'TIGD6'</li><li>'RPS20P4'</li><li>'RPL7P1'</li><li>'HMGXB3'</li><li>'SLC26A2'</li><li>'C1orf198'</li><li>'COG2'</li><li>'C1D'</li><li>'CXCR2P1'</li><li>'RUFY4'</li><li>'TNS1'</li><li>'LIMD1'</li><li>'SEMA3A'</li><li>'ZNF572'</li><li>'RP11.1082L8'</li><li>'LOH12CR2'</li><li>'MANSC1'</li><li>'BORCS5'</li><li>'LRP6'</li><li>'BCL2'</li><li>'RPL9P32'</li><li>'URI1'</li><li>'SSTR3'</li><li>'IL2RB'</li><li>'C1QTNF6'</li><li>'KCTD17'</li><li>'Z82188'</li><li>'TMPRSS6'</li><li>'RP1.151B14.6'</li><li>'RAC2'</li><li>'DCHS2'</li><li>'PLRG1'</li><li>'RP11.158C21.3'</li><li>'TPO'</li><li>'VWF'</li><li>'Population'</li></ol>\n"
      ],
      "text/latex": [
       "\\begin{enumerate*}\n",
       "\\item 'ID'\n",
       "\\item 'Beta'\n",
       "\\item 'KDSR'\n",
       "\\item 'LARS2'\n",
       "\\item 'CSF1R'\n",
       "\\item 'PDGFRB'\n",
       "\\item 'TIGD6'\n",
       "\\item 'RPS20P4'\n",
       "\\item 'RPL7P1'\n",
       "\\item 'HMGXB3'\n",
       "\\item 'SLC26A2'\n",
       "\\item 'C1orf198'\n",
       "\\item 'COG2'\n",
       "\\item 'C1D'\n",
       "\\item 'CXCR2P1'\n",
       "\\item 'RUFY4'\n",
       "\\item 'TNS1'\n",
       "\\item 'LIMD1'\n",
       "\\item 'SEMA3A'\n",
       "\\item 'ZNF572'\n",
       "\\item 'RP11.1082L8'\n",
       "\\item 'LOH12CR2'\n",
       "\\item 'MANSC1'\n",
       "\\item 'BORCS5'\n",
       "\\item 'LRP6'\n",
       "\\item 'BCL2'\n",
       "\\item 'RPL9P32'\n",
       "\\item 'URI1'\n",
       "\\item 'SSTR3'\n",
       "\\item 'IL2RB'\n",
       "\\item 'C1QTNF6'\n",
       "\\item 'KCTD17'\n",
       "\\item 'Z82188'\n",
       "\\item 'TMPRSS6'\n",
       "\\item 'RP1.151B14.6'\n",
       "\\item 'RAC2'\n",
       "\\item 'DCHS2'\n",
       "\\item 'PLRG1'\n",
       "\\item 'RP11.158C21.3'\n",
       "\\item 'TPO'\n",
       "\\item 'VWF'\n",
       "\\item 'Population'\n",
       "\\end{enumerate*}\n"
      ],
      "text/markdown": [
       "1. 'ID'\n",
       "2. 'Beta'\n",
       "3. 'KDSR'\n",
       "4. 'LARS2'\n",
       "5. 'CSF1R'\n",
       "6. 'PDGFRB'\n",
       "7. 'TIGD6'\n",
       "8. 'RPS20P4'\n",
       "9. 'RPL7P1'\n",
       "10. 'HMGXB3'\n",
       "11. 'SLC26A2'\n",
       "12. 'C1orf198'\n",
       "13. 'COG2'\n",
       "14. 'C1D'\n",
       "15. 'CXCR2P1'\n",
       "16. 'RUFY4'\n",
       "17. 'TNS1'\n",
       "18. 'LIMD1'\n",
       "19. 'SEMA3A'\n",
       "20. 'ZNF572'\n",
       "21. 'RP11.1082L8'\n",
       "22. 'LOH12CR2'\n",
       "23. 'MANSC1'\n",
       "24. 'BORCS5'\n",
       "25. 'LRP6'\n",
       "26. 'BCL2'\n",
       "27. 'RPL9P32'\n",
       "28. 'URI1'\n",
       "29. 'SSTR3'\n",
       "30. 'IL2RB'\n",
       "31. 'C1QTNF6'\n",
       "32. 'KCTD17'\n",
       "33. 'Z82188'\n",
       "34. 'TMPRSS6'\n",
       "35. 'RP1.151B14.6'\n",
       "36. 'RAC2'\n",
       "37. 'DCHS2'\n",
       "38. 'PLRG1'\n",
       "39. 'RP11.158C21.3'\n",
       "40. 'TPO'\n",
       "41. 'VWF'\n",
       "42. 'Population'\n",
       "\n",
       "\n"
      ],
      "text/plain": [
       " [1] \"ID\"            \"Beta\"          \"KDSR\"          \"LARS2\"        \n",
       " [5] \"CSF1R\"         \"PDGFRB\"        \"TIGD6\"         \"RPS20P4\"      \n",
       " [9] \"RPL7P1\"        \"HMGXB3\"        \"SLC26A2\"       \"C1orf198\"     \n",
       "[13] \"COG2\"          \"C1D\"           \"CXCR2P1\"       \"RUFY4\"        \n",
       "[17] \"TNS1\"          \"LIMD1\"         \"SEMA3A\"        \"ZNF572\"       \n",
       "[21] \"RP11.1082L8\"   \"LOH12CR2\"      \"MANSC1\"        \"BORCS5\"       \n",
       "[25] \"LRP6\"          \"BCL2\"          \"RPL9P32\"       \"URI1\"         \n",
       "[29] \"SSTR3\"         \"IL2RB\"         \"C1QTNF6\"       \"KCTD17\"       \n",
       "[33] \"Z82188\"        \"TMPRSS6\"       \"RP1.151B14.6\"  \"RAC2\"         \n",
       "[37] \"DCHS2\"         \"PLRG1\"         \"RP11.158C21.3\" \"TPO\"          \n",
       "[41] \"VWF\"           \"Population\"   "
      ]
     },
     "metadata": {},
     "output_type": "display_data"
    }
   ],
   "source": [
    "\n",
    "# read genotypes and expression. get linear regression and obtain residuals\n",
    "genos = read.csv(\"../1000Genomes_Beta_Genotypes/D2S441_Mem_Genotypes.txt\", sep='\\t')\n",
    "\n",
    "colnames(genos) <- c('ID','Beta')\n",
    "\n",
    "# Merge Dataframes\n",
    "df_merge <- merge(genos,real_expression,by=\"ID\") #Merge STR and Gene Expression\n",
    "df_final = merge(df_merge,KG_IDs, by=\"ID\") # Merge STR-Expression with 1000 genomes IDs and Population \n",
    "names(df_final)"
   ]
  },
  {
   "cell_type": "code",
   "execution_count": null,
   "metadata": {
    "vscode": {
     "languageId": "r"
    }
   },
   "outputs": [],
   "source": [
    "# C1D\n",
    "model = lm(Beta~C1D, data=df_final)\n",
    "print(summary(model))\n",
    "print(cor(df_final[\"Beta\"], df_final[\"C1D\"]))"
   ]
  },
  {
   "cell_type": "markdown",
   "metadata": {},
   "source": [
    "## D2S1338"
   ]
  },
  {
   "cell_type": "code",
   "execution_count": 121,
   "metadata": {
    "vscode": {
     "languageId": "r"
    }
   },
   "outputs": [
    {
     "data": {
      "text/html": [
       "<style>\n",
       ".list-inline {list-style: none; margin:0; padding: 0}\n",
       ".list-inline>li {display: inline-block}\n",
       ".list-inline>li:not(:last-child)::after {content: \"\\00b7\"; padding: 0 .5ex}\n",
       "</style>\n",
       "<ol class=list-inline><li>'ID'</li><li>'Beta'</li><li>'KDSR'</li><li>'LARS2'</li><li>'CSF1R'</li><li>'PDGFRB'</li><li>'TIGD6'</li><li>'RPS20P4'</li><li>'RPL7P1'</li><li>'HMGXB3'</li><li>'SLC26A2'</li><li>'C1orf198'</li><li>'COG2'</li><li>'C1D'</li><li>'CXCR2P1'</li><li>'RUFY4'</li><li>'TNS1'</li><li>'LIMD1'</li><li>'SEMA3A'</li><li>'ZNF572'</li><li>'RP11.1082L8'</li><li>'LOH12CR2'</li><li>'MANSC1'</li><li>'BORCS5'</li><li>'LRP6'</li><li>'BCL2'</li><li>'RPL9P32'</li><li>'URI1'</li><li>'SSTR3'</li><li>'IL2RB'</li><li>'C1QTNF6'</li><li>'KCTD17'</li><li>'Z82188'</li><li>'TMPRSS6'</li><li>'RP1.151B14.6'</li><li>'RAC2'</li><li>'DCHS2'</li><li>'PLRG1'</li><li>'RP11.158C21.3'</li><li>'TPO'</li><li>'VWF'</li><li>'Population'</li></ol>\n"
      ],
      "text/latex": [
       "\\begin{enumerate*}\n",
       "\\item 'ID'\n",
       "\\item 'Beta'\n",
       "\\item 'KDSR'\n",
       "\\item 'LARS2'\n",
       "\\item 'CSF1R'\n",
       "\\item 'PDGFRB'\n",
       "\\item 'TIGD6'\n",
       "\\item 'RPS20P4'\n",
       "\\item 'RPL7P1'\n",
       "\\item 'HMGXB3'\n",
       "\\item 'SLC26A2'\n",
       "\\item 'C1orf198'\n",
       "\\item 'COG2'\n",
       "\\item 'C1D'\n",
       "\\item 'CXCR2P1'\n",
       "\\item 'RUFY4'\n",
       "\\item 'TNS1'\n",
       "\\item 'LIMD1'\n",
       "\\item 'SEMA3A'\n",
       "\\item 'ZNF572'\n",
       "\\item 'RP11.1082L8'\n",
       "\\item 'LOH12CR2'\n",
       "\\item 'MANSC1'\n",
       "\\item 'BORCS5'\n",
       "\\item 'LRP6'\n",
       "\\item 'BCL2'\n",
       "\\item 'RPL9P32'\n",
       "\\item 'URI1'\n",
       "\\item 'SSTR3'\n",
       "\\item 'IL2RB'\n",
       "\\item 'C1QTNF6'\n",
       "\\item 'KCTD17'\n",
       "\\item 'Z82188'\n",
       "\\item 'TMPRSS6'\n",
       "\\item 'RP1.151B14.6'\n",
       "\\item 'RAC2'\n",
       "\\item 'DCHS2'\n",
       "\\item 'PLRG1'\n",
       "\\item 'RP11.158C21.3'\n",
       "\\item 'TPO'\n",
       "\\item 'VWF'\n",
       "\\item 'Population'\n",
       "\\end{enumerate*}\n"
      ],
      "text/markdown": [
       "1. 'ID'\n",
       "2. 'Beta'\n",
       "3. 'KDSR'\n",
       "4. 'LARS2'\n",
       "5. 'CSF1R'\n",
       "6. 'PDGFRB'\n",
       "7. 'TIGD6'\n",
       "8. 'RPS20P4'\n",
       "9. 'RPL7P1'\n",
       "10. 'HMGXB3'\n",
       "11. 'SLC26A2'\n",
       "12. 'C1orf198'\n",
       "13. 'COG2'\n",
       "14. 'C1D'\n",
       "15. 'CXCR2P1'\n",
       "16. 'RUFY4'\n",
       "17. 'TNS1'\n",
       "18. 'LIMD1'\n",
       "19. 'SEMA3A'\n",
       "20. 'ZNF572'\n",
       "21. 'RP11.1082L8'\n",
       "22. 'LOH12CR2'\n",
       "23. 'MANSC1'\n",
       "24. 'BORCS5'\n",
       "25. 'LRP6'\n",
       "26. 'BCL2'\n",
       "27. 'RPL9P32'\n",
       "28. 'URI1'\n",
       "29. 'SSTR3'\n",
       "30. 'IL2RB'\n",
       "31. 'C1QTNF6'\n",
       "32. 'KCTD17'\n",
       "33. 'Z82188'\n",
       "34. 'TMPRSS6'\n",
       "35. 'RP1.151B14.6'\n",
       "36. 'RAC2'\n",
       "37. 'DCHS2'\n",
       "38. 'PLRG1'\n",
       "39. 'RP11.158C21.3'\n",
       "40. 'TPO'\n",
       "41. 'VWF'\n",
       "42. 'Population'\n",
       "\n",
       "\n"
      ],
      "text/plain": [
       " [1] \"ID\"            \"Beta\"          \"KDSR\"          \"LARS2\"        \n",
       " [5] \"CSF1R\"         \"PDGFRB\"        \"TIGD6\"         \"RPS20P4\"      \n",
       " [9] \"RPL7P1\"        \"HMGXB3\"        \"SLC26A2\"       \"C1orf198\"     \n",
       "[13] \"COG2\"          \"C1D\"           \"CXCR2P1\"       \"RUFY4\"        \n",
       "[17] \"TNS1\"          \"LIMD1\"         \"SEMA3A\"        \"ZNF572\"       \n",
       "[21] \"RP11.1082L8\"   \"LOH12CR2\"      \"MANSC1\"        \"BORCS5\"       \n",
       "[25] \"LRP6\"          \"BCL2\"          \"RPL9P32\"       \"URI1\"         \n",
       "[29] \"SSTR3\"         \"IL2RB\"         \"C1QTNF6\"       \"KCTD17\"       \n",
       "[33] \"Z82188\"        \"TMPRSS6\"       \"RP1.151B14.6\"  \"RAC2\"         \n",
       "[37] \"DCHS2\"         \"PLRG1\"         \"RP11.158C21.3\" \"TPO\"          \n",
       "[41] \"VWF\"           \"Population\"   "
      ]
     },
     "metadata": {},
     "output_type": "display_data"
    }
   ],
   "source": [
    "\n",
    "# read genotypes and expression. get linear regression and obtain residuals\n",
    "genos = read.csv(\"../1000Genomes_Beta_Genotypes/D2S1338_Mem_Genotypes.txt\", sep='\\t')\n",
    "\n",
    "colnames(genos) <- c('ID','Beta')\n",
    "\n",
    "# Merge Dataframes\n",
    "df_merge <- merge(genos,real_expression,by=\"ID\") #Merge STR and Gene Expression\n",
    "df_final = merge(df_merge,KG_IDs, by=\"ID\") # Merge STR-Expression with 1000 genomes IDs and Population \n",
    "names(df_final)"
   ]
  },
  {
   "cell_type": "markdown",
   "metadata": {},
   "source": [
    "### OMITTING NA VALUES"
   ]
  },
  {
   "cell_type": "code",
   "execution_count": null,
   "metadata": {
    "vscode": {
     "languageId": "r"
    }
   },
   "outputs": [],
   "source": [
    "# CXCR2P1\n",
    "D2S1338 =  na.omit(df_final)\n",
    "model = lm(Beta~CXCR2P1, data=D2S1338)\n",
    "print(summary(model))\n",
    "print(cor(D2S1338[\"Beta\"], D2S1338[\"CXCR2P1\"]))\n"
   ]
  },
  {
   "cell_type": "code",
   "execution_count": null,
   "metadata": {
    "vscode": {
     "languageId": "r"
    }
   },
   "outputs": [],
   "source": [
    "# RUFY4\n",
    "model = lm(Beta~RUFY4, data=D2S1338)\n",
    "print(summary(model))\n",
    "print(cor(D2S1338[\"Beta\"], D2S1338[\"RUFY4\"]))\n"
   ]
  },
  {
   "cell_type": "code",
   "execution_count": null,
   "metadata": {
    "vscode": {
     "languageId": "r"
    }
   },
   "outputs": [],
   "source": [
    "# TNS1\n",
    "model = lm(Beta~TNS1, data=D2S1338)\n",
    "print(summary(model))\n",
    "print(cor(D2S1338[\"Beta\"], D2S1338[\"TNS1\"]))"
   ]
  },
  {
   "cell_type": "markdown",
   "metadata": {},
   "source": [
    "## D3S1358"
   ]
  },
  {
   "cell_type": "code",
   "execution_count": 129,
   "metadata": {
    "vscode": {
     "languageId": "r"
    }
   },
   "outputs": [
    {
     "data": {
      "text/html": [
       "<style>\n",
       ".list-inline {list-style: none; margin:0; padding: 0}\n",
       ".list-inline>li {display: inline-block}\n",
       ".list-inline>li:not(:last-child)::after {content: \"\\00b7\"; padding: 0 .5ex}\n",
       "</style>\n",
       "<ol class=list-inline><li>'ID'</li><li>'Beta'</li><li>'KDSR'</li><li>'LARS2'</li><li>'CSF1R'</li><li>'PDGFRB'</li><li>'TIGD6'</li><li>'RPS20P4'</li><li>'RPL7P1'</li><li>'HMGXB3'</li><li>'SLC26A2'</li><li>'C1orf198'</li><li>'COG2'</li><li>'C1D'</li><li>'CXCR2P1'</li><li>'RUFY4'</li><li>'TNS1'</li><li>'LIMD1'</li><li>'SEMA3A'</li><li>'ZNF572'</li><li>'RP11.1082L8'</li><li>'LOH12CR2'</li><li>'MANSC1'</li><li>'BORCS5'</li><li>'LRP6'</li><li>'BCL2'</li><li>'RPL9P32'</li><li>'URI1'</li><li>'SSTR3'</li><li>'IL2RB'</li><li>'C1QTNF6'</li><li>'KCTD17'</li><li>'Z82188'</li><li>'TMPRSS6'</li><li>'RP1.151B14.6'</li><li>'RAC2'</li><li>'DCHS2'</li><li>'PLRG1'</li><li>'RP11.158C21.3'</li><li>'TPO'</li><li>'VWF'</li><li>'Population'</li></ol>\n"
      ],
      "text/latex": [
       "\\begin{enumerate*}\n",
       "\\item 'ID'\n",
       "\\item 'Beta'\n",
       "\\item 'KDSR'\n",
       "\\item 'LARS2'\n",
       "\\item 'CSF1R'\n",
       "\\item 'PDGFRB'\n",
       "\\item 'TIGD6'\n",
       "\\item 'RPS20P4'\n",
       "\\item 'RPL7P1'\n",
       "\\item 'HMGXB3'\n",
       "\\item 'SLC26A2'\n",
       "\\item 'C1orf198'\n",
       "\\item 'COG2'\n",
       "\\item 'C1D'\n",
       "\\item 'CXCR2P1'\n",
       "\\item 'RUFY4'\n",
       "\\item 'TNS1'\n",
       "\\item 'LIMD1'\n",
       "\\item 'SEMA3A'\n",
       "\\item 'ZNF572'\n",
       "\\item 'RP11.1082L8'\n",
       "\\item 'LOH12CR2'\n",
       "\\item 'MANSC1'\n",
       "\\item 'BORCS5'\n",
       "\\item 'LRP6'\n",
       "\\item 'BCL2'\n",
       "\\item 'RPL9P32'\n",
       "\\item 'URI1'\n",
       "\\item 'SSTR3'\n",
       "\\item 'IL2RB'\n",
       "\\item 'C1QTNF6'\n",
       "\\item 'KCTD17'\n",
       "\\item 'Z82188'\n",
       "\\item 'TMPRSS6'\n",
       "\\item 'RP1.151B14.6'\n",
       "\\item 'RAC2'\n",
       "\\item 'DCHS2'\n",
       "\\item 'PLRG1'\n",
       "\\item 'RP11.158C21.3'\n",
       "\\item 'TPO'\n",
       "\\item 'VWF'\n",
       "\\item 'Population'\n",
       "\\end{enumerate*}\n"
      ],
      "text/markdown": [
       "1. 'ID'\n",
       "2. 'Beta'\n",
       "3. 'KDSR'\n",
       "4. 'LARS2'\n",
       "5. 'CSF1R'\n",
       "6. 'PDGFRB'\n",
       "7. 'TIGD6'\n",
       "8. 'RPS20P4'\n",
       "9. 'RPL7P1'\n",
       "10. 'HMGXB3'\n",
       "11. 'SLC26A2'\n",
       "12. 'C1orf198'\n",
       "13. 'COG2'\n",
       "14. 'C1D'\n",
       "15. 'CXCR2P1'\n",
       "16. 'RUFY4'\n",
       "17. 'TNS1'\n",
       "18. 'LIMD1'\n",
       "19. 'SEMA3A'\n",
       "20. 'ZNF572'\n",
       "21. 'RP11.1082L8'\n",
       "22. 'LOH12CR2'\n",
       "23. 'MANSC1'\n",
       "24. 'BORCS5'\n",
       "25. 'LRP6'\n",
       "26. 'BCL2'\n",
       "27. 'RPL9P32'\n",
       "28. 'URI1'\n",
       "29. 'SSTR3'\n",
       "30. 'IL2RB'\n",
       "31. 'C1QTNF6'\n",
       "32. 'KCTD17'\n",
       "33. 'Z82188'\n",
       "34. 'TMPRSS6'\n",
       "35. 'RP1.151B14.6'\n",
       "36. 'RAC2'\n",
       "37. 'DCHS2'\n",
       "38. 'PLRG1'\n",
       "39. 'RP11.158C21.3'\n",
       "40. 'TPO'\n",
       "41. 'VWF'\n",
       "42. 'Population'\n",
       "\n",
       "\n"
      ],
      "text/plain": [
       " [1] \"ID\"            \"Beta\"          \"KDSR\"          \"LARS2\"        \n",
       " [5] \"CSF1R\"         \"PDGFRB\"        \"TIGD6\"         \"RPS20P4\"      \n",
       " [9] \"RPL7P1\"        \"HMGXB3\"        \"SLC26A2\"       \"C1orf198\"     \n",
       "[13] \"COG2\"          \"C1D\"           \"CXCR2P1\"       \"RUFY4\"        \n",
       "[17] \"TNS1\"          \"LIMD1\"         \"SEMA3A\"        \"ZNF572\"       \n",
       "[21] \"RP11.1082L8\"   \"LOH12CR2\"      \"MANSC1\"        \"BORCS5\"       \n",
       "[25] \"LRP6\"          \"BCL2\"          \"RPL9P32\"       \"URI1\"         \n",
       "[29] \"SSTR3\"         \"IL2RB\"         \"C1QTNF6\"       \"KCTD17\"       \n",
       "[33] \"Z82188\"        \"TMPRSS6\"       \"RP1.151B14.6\"  \"RAC2\"         \n",
       "[37] \"DCHS2\"         \"PLRG1\"         \"RP11.158C21.3\" \"TPO\"          \n",
       "[41] \"VWF\"           \"Population\"   "
      ]
     },
     "metadata": {},
     "output_type": "display_data"
    }
   ],
   "source": [
    "# read genotypes and expression. get linear regression and obtain residuals\n",
    "genos = read.csv(\"../1000Genomes_Beta_Genotypes/D3S1358_Mem_Genotypes.txt\", sep='\\t')\n",
    "\n",
    "colnames(genos) <- c('ID','Beta')\n",
    "\n",
    "# Merge Dataframes\n",
    "df_merge <- merge(genos,real_expression,by=\"ID\") #Merge STR and Gene Expression\n",
    "df_final = merge(df_merge,KG_IDs, by=\"ID\") # Merge STR-Expression with 1000 genomes IDs and Population \n",
    "names(df_final)"
   ]
  },
  {
   "cell_type": "code",
   "execution_count": null,
   "metadata": {
    "vscode": {
     "languageId": "r"
    }
   },
   "outputs": [],
   "source": [
    "# LIMD1\n",
    "model = lm(Beta~LIMD1, data=df_final)\n",
    "print(summary(model))\n",
    "print(cor(df_final[\"Beta\"], df_final[\"LIMD1\"]))"
   ]
  },
  {
   "cell_type": "code",
   "execution_count": null,
   "metadata": {
    "vscode": {
     "languageId": "r"
    }
   },
   "outputs": [],
   "source": [
    "# LARS2\n",
    "model = lm(Beta~LARS2, data=df_final)\n",
    "print(summary(model))\n",
    "print(cor(df_final[\"Beta\"], df_final[\"LARS2\"]))"
   ]
  },
  {
   "cell_type": "markdown",
   "metadata": {},
   "source": [
    "### D7S820"
   ]
  },
  {
   "cell_type": "code",
   "execution_count": 132,
   "metadata": {
    "vscode": {
     "languageId": "r"
    }
   },
   "outputs": [
    {
     "data": {
      "text/html": [
       "<style>\n",
       ".list-inline {list-style: none; margin:0; padding: 0}\n",
       ".list-inline>li {display: inline-block}\n",
       ".list-inline>li:not(:last-child)::after {content: \"\\00b7\"; padding: 0 .5ex}\n",
       "</style>\n",
       "<ol class=list-inline><li>'ID'</li><li>'Beta'</li><li>'KDSR'</li><li>'LARS2'</li><li>'CSF1R'</li><li>'PDGFRB'</li><li>'TIGD6'</li><li>'RPS20P4'</li><li>'RPL7P1'</li><li>'HMGXB3'</li><li>'SLC26A2'</li><li>'C1orf198'</li><li>'COG2'</li><li>'C1D'</li><li>'CXCR2P1'</li><li>'RUFY4'</li><li>'TNS1'</li><li>'LIMD1'</li><li>'SEMA3A'</li><li>'ZNF572'</li><li>'RP11.1082L8'</li><li>'LOH12CR2'</li><li>'MANSC1'</li><li>'BORCS5'</li><li>'LRP6'</li><li>'BCL2'</li><li>'RPL9P32'</li><li>'URI1'</li><li>'SSTR3'</li><li>'IL2RB'</li><li>'C1QTNF6'</li><li>'KCTD17'</li><li>'Z82188'</li><li>'TMPRSS6'</li><li>'RP1.151B14.6'</li><li>'RAC2'</li><li>'DCHS2'</li><li>'PLRG1'</li><li>'RP11.158C21.3'</li><li>'TPO'</li><li>'VWF'</li><li>'Population'</li></ol>\n"
      ],
      "text/latex": [
       "\\begin{enumerate*}\n",
       "\\item 'ID'\n",
       "\\item 'Beta'\n",
       "\\item 'KDSR'\n",
       "\\item 'LARS2'\n",
       "\\item 'CSF1R'\n",
       "\\item 'PDGFRB'\n",
       "\\item 'TIGD6'\n",
       "\\item 'RPS20P4'\n",
       "\\item 'RPL7P1'\n",
       "\\item 'HMGXB3'\n",
       "\\item 'SLC26A2'\n",
       "\\item 'C1orf198'\n",
       "\\item 'COG2'\n",
       "\\item 'C1D'\n",
       "\\item 'CXCR2P1'\n",
       "\\item 'RUFY4'\n",
       "\\item 'TNS1'\n",
       "\\item 'LIMD1'\n",
       "\\item 'SEMA3A'\n",
       "\\item 'ZNF572'\n",
       "\\item 'RP11.1082L8'\n",
       "\\item 'LOH12CR2'\n",
       "\\item 'MANSC1'\n",
       "\\item 'BORCS5'\n",
       "\\item 'LRP6'\n",
       "\\item 'BCL2'\n",
       "\\item 'RPL9P32'\n",
       "\\item 'URI1'\n",
       "\\item 'SSTR3'\n",
       "\\item 'IL2RB'\n",
       "\\item 'C1QTNF6'\n",
       "\\item 'KCTD17'\n",
       "\\item 'Z82188'\n",
       "\\item 'TMPRSS6'\n",
       "\\item 'RP1.151B14.6'\n",
       "\\item 'RAC2'\n",
       "\\item 'DCHS2'\n",
       "\\item 'PLRG1'\n",
       "\\item 'RP11.158C21.3'\n",
       "\\item 'TPO'\n",
       "\\item 'VWF'\n",
       "\\item 'Population'\n",
       "\\end{enumerate*}\n"
      ],
      "text/markdown": [
       "1. 'ID'\n",
       "2. 'Beta'\n",
       "3. 'KDSR'\n",
       "4. 'LARS2'\n",
       "5. 'CSF1R'\n",
       "6. 'PDGFRB'\n",
       "7. 'TIGD6'\n",
       "8. 'RPS20P4'\n",
       "9. 'RPL7P1'\n",
       "10. 'HMGXB3'\n",
       "11. 'SLC26A2'\n",
       "12. 'C1orf198'\n",
       "13. 'COG2'\n",
       "14. 'C1D'\n",
       "15. 'CXCR2P1'\n",
       "16. 'RUFY4'\n",
       "17. 'TNS1'\n",
       "18. 'LIMD1'\n",
       "19. 'SEMA3A'\n",
       "20. 'ZNF572'\n",
       "21. 'RP11.1082L8'\n",
       "22. 'LOH12CR2'\n",
       "23. 'MANSC1'\n",
       "24. 'BORCS5'\n",
       "25. 'LRP6'\n",
       "26. 'BCL2'\n",
       "27. 'RPL9P32'\n",
       "28. 'URI1'\n",
       "29. 'SSTR3'\n",
       "30. 'IL2RB'\n",
       "31. 'C1QTNF6'\n",
       "32. 'KCTD17'\n",
       "33. 'Z82188'\n",
       "34. 'TMPRSS6'\n",
       "35. 'RP1.151B14.6'\n",
       "36. 'RAC2'\n",
       "37. 'DCHS2'\n",
       "38. 'PLRG1'\n",
       "39. 'RP11.158C21.3'\n",
       "40. 'TPO'\n",
       "41. 'VWF'\n",
       "42. 'Population'\n",
       "\n",
       "\n"
      ],
      "text/plain": [
       " [1] \"ID\"            \"Beta\"          \"KDSR\"          \"LARS2\"        \n",
       " [5] \"CSF1R\"         \"PDGFRB\"        \"TIGD6\"         \"RPS20P4\"      \n",
       " [9] \"RPL7P1\"        \"HMGXB3\"        \"SLC26A2\"       \"C1orf198\"     \n",
       "[13] \"COG2\"          \"C1D\"           \"CXCR2P1\"       \"RUFY4\"        \n",
       "[17] \"TNS1\"          \"LIMD1\"         \"SEMA3A\"        \"ZNF572\"       \n",
       "[21] \"RP11.1082L8\"   \"LOH12CR2\"      \"MANSC1\"        \"BORCS5\"       \n",
       "[25] \"LRP6\"          \"BCL2\"          \"RPL9P32\"       \"URI1\"         \n",
       "[29] \"SSTR3\"         \"IL2RB\"         \"C1QTNF6\"       \"KCTD17\"       \n",
       "[33] \"Z82188\"        \"TMPRSS6\"       \"RP1.151B14.6\"  \"RAC2\"         \n",
       "[37] \"DCHS2\"         \"PLRG1\"         \"RP11.158C21.3\" \"TPO\"          \n",
       "[41] \"VWF\"           \"Population\"   "
      ]
     },
     "metadata": {},
     "output_type": "display_data"
    }
   ],
   "source": [
    "# read genotypes and expression. get linear regression and obtain residuals\n",
    "genos = read.csv(\"../1000Genomes_Beta_Genotypes/D7S820_Mem_Genotypes.txt\", sep='\\t')\n",
    "\n",
    "colnames(genos) <- c('ID','Beta')\n",
    "\n",
    "# Merge Dataframes\n",
    "df_merge <- merge(genos,real_expression,by=\"ID\") #Merge STR and Gene Expression\n",
    "df_final = merge(df_merge,KG_IDs, by=\"ID\") # Merge STR-Expression with 1000 genomes IDs and Population \n",
    "names(df_final)"
   ]
  },
  {
   "cell_type": "code",
   "execution_count": null,
   "metadata": {
    "vscode": {
     "languageId": "r"
    }
   },
   "outputs": [],
   "source": [
    "# LARS2\n",
    "model = lm(Beta~SEMA3A, data=df_final)\n",
    "print(summary(model))\n",
    "print(cor(df_final[\"Beta\"], df_final[\"SEMA3A\"]))"
   ]
  },
  {
   "cell_type": "markdown",
   "metadata": {},
   "source": [
    "## D8S1179"
   ]
  },
  {
   "cell_type": "code",
   "execution_count": 134,
   "metadata": {
    "vscode": {
     "languageId": "r"
    }
   },
   "outputs": [
    {
     "data": {
      "text/html": [
       "<style>\n",
       ".list-inline {list-style: none; margin:0; padding: 0}\n",
       ".list-inline>li {display: inline-block}\n",
       ".list-inline>li:not(:last-child)::after {content: \"\\00b7\"; padding: 0 .5ex}\n",
       "</style>\n",
       "<ol class=list-inline><li>'ID'</li><li>'Beta'</li><li>'KDSR'</li><li>'LARS2'</li><li>'CSF1R'</li><li>'PDGFRB'</li><li>'TIGD6'</li><li>'RPS20P4'</li><li>'RPL7P1'</li><li>'HMGXB3'</li><li>'SLC26A2'</li><li>'C1orf198'</li><li>'COG2'</li><li>'C1D'</li><li>'CXCR2P1'</li><li>'RUFY4'</li><li>'TNS1'</li><li>'LIMD1'</li><li>'SEMA3A'</li><li>'ZNF572'</li><li>'RP11.1082L8'</li><li>'LOH12CR2'</li><li>'MANSC1'</li><li>'BORCS5'</li><li>'LRP6'</li><li>'BCL2'</li><li>'RPL9P32'</li><li>'URI1'</li><li>'SSTR3'</li><li>'IL2RB'</li><li>'C1QTNF6'</li><li>'KCTD17'</li><li>'Z82188'</li><li>'TMPRSS6'</li><li>'RP1.151B14.6'</li><li>'RAC2'</li><li>'DCHS2'</li><li>'PLRG1'</li><li>'RP11.158C21.3'</li><li>'TPO'</li><li>'VWF'</li><li>'Population'</li></ol>\n"
      ],
      "text/latex": [
       "\\begin{enumerate*}\n",
       "\\item 'ID'\n",
       "\\item 'Beta'\n",
       "\\item 'KDSR'\n",
       "\\item 'LARS2'\n",
       "\\item 'CSF1R'\n",
       "\\item 'PDGFRB'\n",
       "\\item 'TIGD6'\n",
       "\\item 'RPS20P4'\n",
       "\\item 'RPL7P1'\n",
       "\\item 'HMGXB3'\n",
       "\\item 'SLC26A2'\n",
       "\\item 'C1orf198'\n",
       "\\item 'COG2'\n",
       "\\item 'C1D'\n",
       "\\item 'CXCR2P1'\n",
       "\\item 'RUFY4'\n",
       "\\item 'TNS1'\n",
       "\\item 'LIMD1'\n",
       "\\item 'SEMA3A'\n",
       "\\item 'ZNF572'\n",
       "\\item 'RP11.1082L8'\n",
       "\\item 'LOH12CR2'\n",
       "\\item 'MANSC1'\n",
       "\\item 'BORCS5'\n",
       "\\item 'LRP6'\n",
       "\\item 'BCL2'\n",
       "\\item 'RPL9P32'\n",
       "\\item 'URI1'\n",
       "\\item 'SSTR3'\n",
       "\\item 'IL2RB'\n",
       "\\item 'C1QTNF6'\n",
       "\\item 'KCTD17'\n",
       "\\item 'Z82188'\n",
       "\\item 'TMPRSS6'\n",
       "\\item 'RP1.151B14.6'\n",
       "\\item 'RAC2'\n",
       "\\item 'DCHS2'\n",
       "\\item 'PLRG1'\n",
       "\\item 'RP11.158C21.3'\n",
       "\\item 'TPO'\n",
       "\\item 'VWF'\n",
       "\\item 'Population'\n",
       "\\end{enumerate*}\n"
      ],
      "text/markdown": [
       "1. 'ID'\n",
       "2. 'Beta'\n",
       "3. 'KDSR'\n",
       "4. 'LARS2'\n",
       "5. 'CSF1R'\n",
       "6. 'PDGFRB'\n",
       "7. 'TIGD6'\n",
       "8. 'RPS20P4'\n",
       "9. 'RPL7P1'\n",
       "10. 'HMGXB3'\n",
       "11. 'SLC26A2'\n",
       "12. 'C1orf198'\n",
       "13. 'COG2'\n",
       "14. 'C1D'\n",
       "15. 'CXCR2P1'\n",
       "16. 'RUFY4'\n",
       "17. 'TNS1'\n",
       "18. 'LIMD1'\n",
       "19. 'SEMA3A'\n",
       "20. 'ZNF572'\n",
       "21. 'RP11.1082L8'\n",
       "22. 'LOH12CR2'\n",
       "23. 'MANSC1'\n",
       "24. 'BORCS5'\n",
       "25. 'LRP6'\n",
       "26. 'BCL2'\n",
       "27. 'RPL9P32'\n",
       "28. 'URI1'\n",
       "29. 'SSTR3'\n",
       "30. 'IL2RB'\n",
       "31. 'C1QTNF6'\n",
       "32. 'KCTD17'\n",
       "33. 'Z82188'\n",
       "34. 'TMPRSS6'\n",
       "35. 'RP1.151B14.6'\n",
       "36. 'RAC2'\n",
       "37. 'DCHS2'\n",
       "38. 'PLRG1'\n",
       "39. 'RP11.158C21.3'\n",
       "40. 'TPO'\n",
       "41. 'VWF'\n",
       "42. 'Population'\n",
       "\n",
       "\n"
      ],
      "text/plain": [
       " [1] \"ID\"            \"Beta\"          \"KDSR\"          \"LARS2\"        \n",
       " [5] \"CSF1R\"         \"PDGFRB\"        \"TIGD6\"         \"RPS20P4\"      \n",
       " [9] \"RPL7P1\"        \"HMGXB3\"        \"SLC26A2\"       \"C1orf198\"     \n",
       "[13] \"COG2\"          \"C1D\"           \"CXCR2P1\"       \"RUFY4\"        \n",
       "[17] \"TNS1\"          \"LIMD1\"         \"SEMA3A\"        \"ZNF572\"       \n",
       "[21] \"RP11.1082L8\"   \"LOH12CR2\"      \"MANSC1\"        \"BORCS5\"       \n",
       "[25] \"LRP6\"          \"BCL2\"          \"RPL9P32\"       \"URI1\"         \n",
       "[29] \"SSTR3\"         \"IL2RB\"         \"C1QTNF6\"       \"KCTD17\"       \n",
       "[33] \"Z82188\"        \"TMPRSS6\"       \"RP1.151B14.6\"  \"RAC2\"         \n",
       "[37] \"DCHS2\"         \"PLRG1\"         \"RP11.158C21.3\" \"TPO\"          \n",
       "[41] \"VWF\"           \"Population\"   "
      ]
     },
     "metadata": {},
     "output_type": "display_data"
    }
   ],
   "source": [
    "# read genotypes and expression. get linear regression and obtain residuals\n",
    "genos = read.csv(\"../1000Genomes_Beta_Genotypes/D8S1179_Mem_Genotypes.txt\", sep='\\t')\n",
    "\n",
    "colnames(genos) <- c('ID','Beta')\n",
    "\n",
    "# Merge Dataframes\n",
    "df_merge <- merge(genos,real_expression,by=\"ID\") #Merge STR and Gene Expression\n",
    "df_final = merge(df_merge,KG_IDs, by=\"ID\") # Merge STR-Expression with 1000 genomes IDs and Population \n",
    "names(df_final)"
   ]
  },
  {
   "cell_type": "code",
   "execution_count": null,
   "metadata": {
    "vscode": {
     "languageId": "r"
    }
   },
   "outputs": [],
   "source": [
    "# ZNF572\n",
    "model = lm(Beta~ZNF572, data=df_final)\n",
    "print(summary(model))\n",
    "print(cor(df_final[\"Beta\"], df_final[\"ZNF572\"]))"
   ]
  },
  {
   "cell_type": "code",
   "execution_count": null,
   "metadata": {
    "vscode": {
     "languageId": "r"
    }
   },
   "outputs": [],
   "source": [
    "# RP11-1082L8\n",
    "model = lm(Beta~RP11.1082L8, data=df_final)\n",
    "print(summary(model))\n",
    "print(cor(df_final[\"Beta\"], df_final[\"RP11.1082L8\"]))"
   ]
  },
  {
   "cell_type": "markdown",
   "metadata": {},
   "source": [
    "## D12S391"
   ]
  },
  {
   "cell_type": "code",
   "execution_count": 139,
   "metadata": {
    "vscode": {
     "languageId": "r"
    }
   },
   "outputs": [
    {
     "data": {
      "text/html": [
       "<style>\n",
       ".list-inline {list-style: none; margin:0; padding: 0}\n",
       ".list-inline>li {display: inline-block}\n",
       ".list-inline>li:not(:last-child)::after {content: \"\\00b7\"; padding: 0 .5ex}\n",
       "</style>\n",
       "<ol class=list-inline><li>'ID'</li><li>'Beta'</li><li>'KDSR'</li><li>'LARS2'</li><li>'CSF1R'</li><li>'PDGFRB'</li><li>'TIGD6'</li><li>'RPS20P4'</li><li>'RPL7P1'</li><li>'HMGXB3'</li><li>'SLC26A2'</li><li>'C1orf198'</li><li>'COG2'</li><li>'C1D'</li><li>'CXCR2P1'</li><li>'RUFY4'</li><li>'TNS1'</li><li>'LIMD1'</li><li>'SEMA3A'</li><li>'ZNF572'</li><li>'RP11.1082L8'</li><li>'LOH12CR2'</li><li>'MANSC1'</li><li>'BORCS5'</li><li>'LRP6'</li><li>'BCL2'</li><li>'RPL9P32'</li><li>'URI1'</li><li>'SSTR3'</li><li>'IL2RB'</li><li>'C1QTNF6'</li><li>'KCTD17'</li><li>'Z82188'</li><li>'TMPRSS6'</li><li>'RP1.151B14.6'</li><li>'RAC2'</li><li>'DCHS2'</li><li>'PLRG1'</li><li>'RP11.158C21.3'</li><li>'TPO'</li><li>'VWF'</li><li>'Population'</li></ol>\n"
      ],
      "text/latex": [
       "\\begin{enumerate*}\n",
       "\\item 'ID'\n",
       "\\item 'Beta'\n",
       "\\item 'KDSR'\n",
       "\\item 'LARS2'\n",
       "\\item 'CSF1R'\n",
       "\\item 'PDGFRB'\n",
       "\\item 'TIGD6'\n",
       "\\item 'RPS20P4'\n",
       "\\item 'RPL7P1'\n",
       "\\item 'HMGXB3'\n",
       "\\item 'SLC26A2'\n",
       "\\item 'C1orf198'\n",
       "\\item 'COG2'\n",
       "\\item 'C1D'\n",
       "\\item 'CXCR2P1'\n",
       "\\item 'RUFY4'\n",
       "\\item 'TNS1'\n",
       "\\item 'LIMD1'\n",
       "\\item 'SEMA3A'\n",
       "\\item 'ZNF572'\n",
       "\\item 'RP11.1082L8'\n",
       "\\item 'LOH12CR2'\n",
       "\\item 'MANSC1'\n",
       "\\item 'BORCS5'\n",
       "\\item 'LRP6'\n",
       "\\item 'BCL2'\n",
       "\\item 'RPL9P32'\n",
       "\\item 'URI1'\n",
       "\\item 'SSTR3'\n",
       "\\item 'IL2RB'\n",
       "\\item 'C1QTNF6'\n",
       "\\item 'KCTD17'\n",
       "\\item 'Z82188'\n",
       "\\item 'TMPRSS6'\n",
       "\\item 'RP1.151B14.6'\n",
       "\\item 'RAC2'\n",
       "\\item 'DCHS2'\n",
       "\\item 'PLRG1'\n",
       "\\item 'RP11.158C21.3'\n",
       "\\item 'TPO'\n",
       "\\item 'VWF'\n",
       "\\item 'Population'\n",
       "\\end{enumerate*}\n"
      ],
      "text/markdown": [
       "1. 'ID'\n",
       "2. 'Beta'\n",
       "3. 'KDSR'\n",
       "4. 'LARS2'\n",
       "5. 'CSF1R'\n",
       "6. 'PDGFRB'\n",
       "7. 'TIGD6'\n",
       "8. 'RPS20P4'\n",
       "9. 'RPL7P1'\n",
       "10. 'HMGXB3'\n",
       "11. 'SLC26A2'\n",
       "12. 'C1orf198'\n",
       "13. 'COG2'\n",
       "14. 'C1D'\n",
       "15. 'CXCR2P1'\n",
       "16. 'RUFY4'\n",
       "17. 'TNS1'\n",
       "18. 'LIMD1'\n",
       "19. 'SEMA3A'\n",
       "20. 'ZNF572'\n",
       "21. 'RP11.1082L8'\n",
       "22. 'LOH12CR2'\n",
       "23. 'MANSC1'\n",
       "24. 'BORCS5'\n",
       "25. 'LRP6'\n",
       "26. 'BCL2'\n",
       "27. 'RPL9P32'\n",
       "28. 'URI1'\n",
       "29. 'SSTR3'\n",
       "30. 'IL2RB'\n",
       "31. 'C1QTNF6'\n",
       "32. 'KCTD17'\n",
       "33. 'Z82188'\n",
       "34. 'TMPRSS6'\n",
       "35. 'RP1.151B14.6'\n",
       "36. 'RAC2'\n",
       "37. 'DCHS2'\n",
       "38. 'PLRG1'\n",
       "39. 'RP11.158C21.3'\n",
       "40. 'TPO'\n",
       "41. 'VWF'\n",
       "42. 'Population'\n",
       "\n",
       "\n"
      ],
      "text/plain": [
       " [1] \"ID\"            \"Beta\"          \"KDSR\"          \"LARS2\"        \n",
       " [5] \"CSF1R\"         \"PDGFRB\"        \"TIGD6\"         \"RPS20P4\"      \n",
       " [9] \"RPL7P1\"        \"HMGXB3\"        \"SLC26A2\"       \"C1orf198\"     \n",
       "[13] \"COG2\"          \"C1D\"           \"CXCR2P1\"       \"RUFY4\"        \n",
       "[17] \"TNS1\"          \"LIMD1\"         \"SEMA3A\"        \"ZNF572\"       \n",
       "[21] \"RP11.1082L8\"   \"LOH12CR2\"      \"MANSC1\"        \"BORCS5\"       \n",
       "[25] \"LRP6\"          \"BCL2\"          \"RPL9P32\"       \"URI1\"         \n",
       "[29] \"SSTR3\"         \"IL2RB\"         \"C1QTNF6\"       \"KCTD17\"       \n",
       "[33] \"Z82188\"        \"TMPRSS6\"       \"RP1.151B14.6\"  \"RAC2\"         \n",
       "[37] \"DCHS2\"         \"PLRG1\"         \"RP11.158C21.3\" \"TPO\"          \n",
       "[41] \"VWF\"           \"Population\"   "
      ]
     },
     "metadata": {},
     "output_type": "display_data"
    }
   ],
   "source": [
    "# read genotypes and expression. get linear regression and obtain residuals\n",
    "genos = read.csv(\"../1000Genomes_Beta_Genotypes/D12S391_Mem_Genotypes.txt\", sep='\\t')\n",
    "\n",
    "colnames(genos) <- c('ID','Beta')\n",
    "\n",
    "# Merge Dataframes\n",
    "df_merge <- merge(genos,real_expression,by=\"ID\") #Merge STR and Gene Expression\n",
    "df_final = merge(df_merge,KG_IDs, by=\"ID\") # Merge STR-Expression with 1000 genomes IDs and Population \n",
    "names(df_final)"
   ]
  },
  {
   "cell_type": "code",
   "execution_count": null,
   "metadata": {
    "vscode": {
     "languageId": "r"
    }
   },
   "outputs": [],
   "source": [
    "# LOH12CR2\n",
    "model = lm(Beta~LOH12CR2, data=df_final)\n",
    "print(summary(model))\n",
    "print(cor(df_final[\"Beta\"], df_final[\"LOH12CR2\"]))"
   ]
  },
  {
   "cell_type": "code",
   "execution_count": null,
   "metadata": {
    "vscode": {
     "languageId": "r"
    }
   },
   "outputs": [],
   "source": [
    "# MANSC1\n",
    "model = lm(Beta~MANSC1, data=df_final)\n",
    "print(summary(model))\n",
    "print(cor(df_final[\"Beta\"], df_final[\"MANSC1\"]))"
   ]
  },
  {
   "cell_type": "code",
   "execution_count": null,
   "metadata": {
    "vscode": {
     "languageId": "r"
    }
   },
   "outputs": [],
   "source": [
    "# BORCS5\n",
    "model = lm(Beta~BORCS5, data=df_final)\n",
    "print(summary(model))\n",
    "print(cor(df_final[\"Beta\"], df_final[\"BORCS5\"]))"
   ]
  },
  {
   "cell_type": "code",
   "execution_count": null,
   "metadata": {
    "vscode": {
     "languageId": "r"
    }
   },
   "outputs": [],
   "source": [
    "# LRP6\n",
    "model = lm(Beta~LRP6, data=df_final)\n",
    "print(summary(model))\n",
    "print(cor(df_final[\"Beta\"], df_final[\"LRP6\"]))"
   ]
  },
  {
   "cell_type": "markdown",
   "metadata": {},
   "source": [
    "## D18S51"
   ]
  },
  {
   "cell_type": "code",
   "execution_count": 144,
   "metadata": {
    "vscode": {
     "languageId": "r"
    }
   },
   "outputs": [
    {
     "data": {
      "text/html": [
       "<style>\n",
       ".list-inline {list-style: none; margin:0; padding: 0}\n",
       ".list-inline>li {display: inline-block}\n",
       ".list-inline>li:not(:last-child)::after {content: \"\\00b7\"; padding: 0 .5ex}\n",
       "</style>\n",
       "<ol class=list-inline><li>'ID'</li><li>'Beta'</li><li>'KDSR'</li><li>'LARS2'</li><li>'CSF1R'</li><li>'PDGFRB'</li><li>'TIGD6'</li><li>'RPS20P4'</li><li>'RPL7P1'</li><li>'HMGXB3'</li><li>'SLC26A2'</li><li>'C1orf198'</li><li>'COG2'</li><li>'C1D'</li><li>'CXCR2P1'</li><li>'RUFY4'</li><li>'TNS1'</li><li>'LIMD1'</li><li>'SEMA3A'</li><li>'ZNF572'</li><li>'RP11.1082L8'</li><li>'LOH12CR2'</li><li>'MANSC1'</li><li>'BORCS5'</li><li>'LRP6'</li><li>'BCL2'</li><li>'RPL9P32'</li><li>'URI1'</li><li>'SSTR3'</li><li>'IL2RB'</li><li>'C1QTNF6'</li><li>'KCTD17'</li><li>'Z82188'</li><li>'TMPRSS6'</li><li>'RP1.151B14.6'</li><li>'RAC2'</li><li>'DCHS2'</li><li>'PLRG1'</li><li>'RP11.158C21.3'</li><li>'TPO'</li><li>'VWF'</li><li>'Population'</li></ol>\n"
      ],
      "text/latex": [
       "\\begin{enumerate*}\n",
       "\\item 'ID'\n",
       "\\item 'Beta'\n",
       "\\item 'KDSR'\n",
       "\\item 'LARS2'\n",
       "\\item 'CSF1R'\n",
       "\\item 'PDGFRB'\n",
       "\\item 'TIGD6'\n",
       "\\item 'RPS20P4'\n",
       "\\item 'RPL7P1'\n",
       "\\item 'HMGXB3'\n",
       "\\item 'SLC26A2'\n",
       "\\item 'C1orf198'\n",
       "\\item 'COG2'\n",
       "\\item 'C1D'\n",
       "\\item 'CXCR2P1'\n",
       "\\item 'RUFY4'\n",
       "\\item 'TNS1'\n",
       "\\item 'LIMD1'\n",
       "\\item 'SEMA3A'\n",
       "\\item 'ZNF572'\n",
       "\\item 'RP11.1082L8'\n",
       "\\item 'LOH12CR2'\n",
       "\\item 'MANSC1'\n",
       "\\item 'BORCS5'\n",
       "\\item 'LRP6'\n",
       "\\item 'BCL2'\n",
       "\\item 'RPL9P32'\n",
       "\\item 'URI1'\n",
       "\\item 'SSTR3'\n",
       "\\item 'IL2RB'\n",
       "\\item 'C1QTNF6'\n",
       "\\item 'KCTD17'\n",
       "\\item 'Z82188'\n",
       "\\item 'TMPRSS6'\n",
       "\\item 'RP1.151B14.6'\n",
       "\\item 'RAC2'\n",
       "\\item 'DCHS2'\n",
       "\\item 'PLRG1'\n",
       "\\item 'RP11.158C21.3'\n",
       "\\item 'TPO'\n",
       "\\item 'VWF'\n",
       "\\item 'Population'\n",
       "\\end{enumerate*}\n"
      ],
      "text/markdown": [
       "1. 'ID'\n",
       "2. 'Beta'\n",
       "3. 'KDSR'\n",
       "4. 'LARS2'\n",
       "5. 'CSF1R'\n",
       "6. 'PDGFRB'\n",
       "7. 'TIGD6'\n",
       "8. 'RPS20P4'\n",
       "9. 'RPL7P1'\n",
       "10. 'HMGXB3'\n",
       "11. 'SLC26A2'\n",
       "12. 'C1orf198'\n",
       "13. 'COG2'\n",
       "14. 'C1D'\n",
       "15. 'CXCR2P1'\n",
       "16. 'RUFY4'\n",
       "17. 'TNS1'\n",
       "18. 'LIMD1'\n",
       "19. 'SEMA3A'\n",
       "20. 'ZNF572'\n",
       "21. 'RP11.1082L8'\n",
       "22. 'LOH12CR2'\n",
       "23. 'MANSC1'\n",
       "24. 'BORCS5'\n",
       "25. 'LRP6'\n",
       "26. 'BCL2'\n",
       "27. 'RPL9P32'\n",
       "28. 'URI1'\n",
       "29. 'SSTR3'\n",
       "30. 'IL2RB'\n",
       "31. 'C1QTNF6'\n",
       "32. 'KCTD17'\n",
       "33. 'Z82188'\n",
       "34. 'TMPRSS6'\n",
       "35. 'RP1.151B14.6'\n",
       "36. 'RAC2'\n",
       "37. 'DCHS2'\n",
       "38. 'PLRG1'\n",
       "39. 'RP11.158C21.3'\n",
       "40. 'TPO'\n",
       "41. 'VWF'\n",
       "42. 'Population'\n",
       "\n",
       "\n"
      ],
      "text/plain": [
       " [1] \"ID\"            \"Beta\"          \"KDSR\"          \"LARS2\"        \n",
       " [5] \"CSF1R\"         \"PDGFRB\"        \"TIGD6\"         \"RPS20P4\"      \n",
       " [9] \"RPL7P1\"        \"HMGXB3\"        \"SLC26A2\"       \"C1orf198\"     \n",
       "[13] \"COG2\"          \"C1D\"           \"CXCR2P1\"       \"RUFY4\"        \n",
       "[17] \"TNS1\"          \"LIMD1\"         \"SEMA3A\"        \"ZNF572\"       \n",
       "[21] \"RP11.1082L8\"   \"LOH12CR2\"      \"MANSC1\"        \"BORCS5\"       \n",
       "[25] \"LRP6\"          \"BCL2\"          \"RPL9P32\"       \"URI1\"         \n",
       "[29] \"SSTR3\"         \"IL2RB\"         \"C1QTNF6\"       \"KCTD17\"       \n",
       "[33] \"Z82188\"        \"TMPRSS6\"       \"RP1.151B14.6\"  \"RAC2\"         \n",
       "[37] \"DCHS2\"         \"PLRG1\"         \"RP11.158C21.3\" \"TPO\"          \n",
       "[41] \"VWF\"           \"Population\"   "
      ]
     },
     "metadata": {},
     "output_type": "display_data"
    }
   ],
   "source": [
    "\n",
    "# read genotypes and expression. get linear regression and obtain residuals\n",
    "genos = read.csv(\"../1000Genomes_Beta_Genotypes/D18S51_Mem_Genotypes.txt\", sep='\\t')\n",
    "\n",
    "colnames(genos) <- c('ID','Beta')\n",
    "\n",
    "# Merge Dataframes\n",
    "df_merge <- merge(genos,real_expression,by=\"ID\") #Merge STR and Gene Expression\n",
    "df_final = merge(df_merge,KG_IDs, by=\"ID\") # Merge STR-Expression with 1000 genomes IDs and Population \n",
    "names(df_final)"
   ]
  },
  {
   "cell_type": "code",
   "execution_count": null,
   "metadata": {
    "vscode": {
     "languageId": "r"
    }
   },
   "outputs": [],
   "source": [
    "# BCL2\n",
    "model = lm(Beta~BCL2, data=df_final)\n",
    "print(summary(model))\n",
    "print(cor(df_final[\"Beta\"], df_final[\"BCL2\"]))"
   ]
  },
  {
   "cell_type": "code",
   "execution_count": null,
   "metadata": {
    "vscode": {
     "languageId": "r"
    }
   },
   "outputs": [],
   "source": [
    "# KDSR\n",
    "model = lm(Beta~KDSR, data=df_final)\n",
    "print(summary(model))\n",
    "print(cor(df_final[\"Beta\"], df_final[\"KDSR\"]))"
   ]
  },
  {
   "cell_type": "markdown",
   "metadata": {},
   "source": [
    "## D19S433"
   ]
  },
  {
   "cell_type": "code",
   "execution_count": 147,
   "metadata": {
    "vscode": {
     "languageId": "r"
    }
   },
   "outputs": [
    {
     "data": {
      "text/html": [
       "<style>\n",
       ".list-inline {list-style: none; margin:0; padding: 0}\n",
       ".list-inline>li {display: inline-block}\n",
       ".list-inline>li:not(:last-child)::after {content: \"\\00b7\"; padding: 0 .5ex}\n",
       "</style>\n",
       "<ol class=list-inline><li>'ID'</li><li>'Beta'</li><li>'KDSR'</li><li>'LARS2'</li><li>'CSF1R'</li><li>'PDGFRB'</li><li>'TIGD6'</li><li>'RPS20P4'</li><li>'RPL7P1'</li><li>'HMGXB3'</li><li>'SLC26A2'</li><li>'C1orf198'</li><li>'COG2'</li><li>'C1D'</li><li>'CXCR2P1'</li><li>'RUFY4'</li><li>'TNS1'</li><li>'LIMD1'</li><li>'SEMA3A'</li><li>'ZNF572'</li><li>'RP11.1082L8'</li><li>'LOH12CR2'</li><li>'MANSC1'</li><li>'BORCS5'</li><li>'LRP6'</li><li>'BCL2'</li><li>'RPL9P32'</li><li>'URI1'</li><li>'SSTR3'</li><li>'IL2RB'</li><li>'C1QTNF6'</li><li>'KCTD17'</li><li>'Z82188'</li><li>'TMPRSS6'</li><li>'RP1.151B14.6'</li><li>'RAC2'</li><li>'DCHS2'</li><li>'PLRG1'</li><li>'RP11.158C21.3'</li><li>'TPO'</li><li>'VWF'</li><li>'Population'</li></ol>\n"
      ],
      "text/latex": [
       "\\begin{enumerate*}\n",
       "\\item 'ID'\n",
       "\\item 'Beta'\n",
       "\\item 'KDSR'\n",
       "\\item 'LARS2'\n",
       "\\item 'CSF1R'\n",
       "\\item 'PDGFRB'\n",
       "\\item 'TIGD6'\n",
       "\\item 'RPS20P4'\n",
       "\\item 'RPL7P1'\n",
       "\\item 'HMGXB3'\n",
       "\\item 'SLC26A2'\n",
       "\\item 'C1orf198'\n",
       "\\item 'COG2'\n",
       "\\item 'C1D'\n",
       "\\item 'CXCR2P1'\n",
       "\\item 'RUFY4'\n",
       "\\item 'TNS1'\n",
       "\\item 'LIMD1'\n",
       "\\item 'SEMA3A'\n",
       "\\item 'ZNF572'\n",
       "\\item 'RP11.1082L8'\n",
       "\\item 'LOH12CR2'\n",
       "\\item 'MANSC1'\n",
       "\\item 'BORCS5'\n",
       "\\item 'LRP6'\n",
       "\\item 'BCL2'\n",
       "\\item 'RPL9P32'\n",
       "\\item 'URI1'\n",
       "\\item 'SSTR3'\n",
       "\\item 'IL2RB'\n",
       "\\item 'C1QTNF6'\n",
       "\\item 'KCTD17'\n",
       "\\item 'Z82188'\n",
       "\\item 'TMPRSS6'\n",
       "\\item 'RP1.151B14.6'\n",
       "\\item 'RAC2'\n",
       "\\item 'DCHS2'\n",
       "\\item 'PLRG1'\n",
       "\\item 'RP11.158C21.3'\n",
       "\\item 'TPO'\n",
       "\\item 'VWF'\n",
       "\\item 'Population'\n",
       "\\end{enumerate*}\n"
      ],
      "text/markdown": [
       "1. 'ID'\n",
       "2. 'Beta'\n",
       "3. 'KDSR'\n",
       "4. 'LARS2'\n",
       "5. 'CSF1R'\n",
       "6. 'PDGFRB'\n",
       "7. 'TIGD6'\n",
       "8. 'RPS20P4'\n",
       "9. 'RPL7P1'\n",
       "10. 'HMGXB3'\n",
       "11. 'SLC26A2'\n",
       "12. 'C1orf198'\n",
       "13. 'COG2'\n",
       "14. 'C1D'\n",
       "15. 'CXCR2P1'\n",
       "16. 'RUFY4'\n",
       "17. 'TNS1'\n",
       "18. 'LIMD1'\n",
       "19. 'SEMA3A'\n",
       "20. 'ZNF572'\n",
       "21. 'RP11.1082L8'\n",
       "22. 'LOH12CR2'\n",
       "23. 'MANSC1'\n",
       "24. 'BORCS5'\n",
       "25. 'LRP6'\n",
       "26. 'BCL2'\n",
       "27. 'RPL9P32'\n",
       "28. 'URI1'\n",
       "29. 'SSTR3'\n",
       "30. 'IL2RB'\n",
       "31. 'C1QTNF6'\n",
       "32. 'KCTD17'\n",
       "33. 'Z82188'\n",
       "34. 'TMPRSS6'\n",
       "35. 'RP1.151B14.6'\n",
       "36. 'RAC2'\n",
       "37. 'DCHS2'\n",
       "38. 'PLRG1'\n",
       "39. 'RP11.158C21.3'\n",
       "40. 'TPO'\n",
       "41. 'VWF'\n",
       "42. 'Population'\n",
       "\n",
       "\n"
      ],
      "text/plain": [
       " [1] \"ID\"            \"Beta\"          \"KDSR\"          \"LARS2\"        \n",
       " [5] \"CSF1R\"         \"PDGFRB\"        \"TIGD6\"         \"RPS20P4\"      \n",
       " [9] \"RPL7P1\"        \"HMGXB3\"        \"SLC26A2\"       \"C1orf198\"     \n",
       "[13] \"COG2\"          \"C1D\"           \"CXCR2P1\"       \"RUFY4\"        \n",
       "[17] \"TNS1\"          \"LIMD1\"         \"SEMA3A\"        \"ZNF572\"       \n",
       "[21] \"RP11.1082L8\"   \"LOH12CR2\"      \"MANSC1\"        \"BORCS5\"       \n",
       "[25] \"LRP6\"          \"BCL2\"          \"RPL9P32\"       \"URI1\"         \n",
       "[29] \"SSTR3\"         \"IL2RB\"         \"C1QTNF6\"       \"KCTD17\"       \n",
       "[33] \"Z82188\"        \"TMPRSS6\"       \"RP1.151B14.6\"  \"RAC2\"         \n",
       "[37] \"DCHS2\"         \"PLRG1\"         \"RP11.158C21.3\" \"TPO\"          \n",
       "[41] \"VWF\"           \"Population\"   "
      ]
     },
     "metadata": {},
     "output_type": "display_data"
    }
   ],
   "source": [
    "# read genotypes and expression. get linear regression and obtain residuals\n",
    "genos = read.csv(\"../1000Genomes_Beta_Genotypes/D19S433_Mem_Genotypes.txt\", sep='\\t')\n",
    "\n",
    "colnames(genos) <- c('ID','Beta')\n",
    "\n",
    "# Merge Dataframes\n",
    "df_merge <- merge(genos,real_expression,by=\"ID\") #Merge STR and Gene Expression\n",
    "df_final = merge(df_merge,KG_IDs, by=\"ID\") # Merge STR-Expression with 1000 genomes IDs and Population \n",
    "names(df_final)"
   ]
  },
  {
   "cell_type": "code",
   "execution_count": null,
   "metadata": {
    "vscode": {
     "languageId": "r"
    }
   },
   "outputs": [],
   "source": [
    "# KDSR\n",
    "model = lm(Beta~RPL9P32, data=df_final)\n",
    "print(summary(model))\n",
    "print(cor(df_final[\"Beta\"], df_final[\"RPL9P32\"]))"
   ]
  },
  {
   "cell_type": "code",
   "execution_count": null,
   "metadata": {
    "vscode": {
     "languageId": "r"
    }
   },
   "outputs": [],
   "source": [
    "# URI1\n",
    "model = lm(Beta~URI1, data=df_final)\n",
    "print(summary(model))\n",
    "print(cor(df_final[\"Beta\"], df_final[\"URI1\"]))"
   ]
  },
  {
   "cell_type": "markdown",
   "metadata": {},
   "source": [
    "## D22S1045"
   ]
  },
  {
   "cell_type": "code",
   "execution_count": 179,
   "metadata": {
    "vscode": {
     "languageId": "r"
    }
   },
   "outputs": [
    {
     "data": {
      "text/html": [
       "<style>\n",
       ".list-inline {list-style: none; margin:0; padding: 0}\n",
       ".list-inline>li {display: inline-block}\n",
       ".list-inline>li:not(:last-child)::after {content: \"\\00b7\"; padding: 0 .5ex}\n",
       "</style>\n",
       "<ol class=list-inline><li>'ID'</li><li>'Beta'</li><li>'KDSR'</li><li>'LARS2'</li><li>'CSF1R'</li><li>'PDGFRB'</li><li>'TIGD6'</li><li>'RPS20P4'</li><li>'RPL7P1'</li><li>'HMGXB3'</li><li>'SLC26A2'</li><li>'C1orf198'</li><li>'COG2'</li><li>'C1D'</li><li>'CXCR2P1'</li><li>'RUFY4'</li><li>'TNS1'</li><li>'LIMD1'</li><li>'SEMA3A'</li><li>'ZNF572'</li><li>'RP11.1082L8'</li><li>'LOH12CR2'</li><li>'MANSC1'</li><li>'BORCS5'</li><li>'LRP6'</li><li>'BCL2'</li><li>'RPL9P32'</li><li>'URI1'</li><li>'SSTR3'</li><li>'IL2RB'</li><li>'C1QTNF6'</li><li>'KCTD17'</li><li>'Z82188'</li><li>'TMPRSS6'</li><li>'RP1.151B14.6'</li><li>'RAC2'</li><li>'DCHS2'</li><li>'PLRG1'</li><li>'RP11.158C21.3'</li><li>'TPO'</li><li>'VWF'</li><li>'Population'</li></ol>\n"
      ],
      "text/latex": [
       "\\begin{enumerate*}\n",
       "\\item 'ID'\n",
       "\\item 'Beta'\n",
       "\\item 'KDSR'\n",
       "\\item 'LARS2'\n",
       "\\item 'CSF1R'\n",
       "\\item 'PDGFRB'\n",
       "\\item 'TIGD6'\n",
       "\\item 'RPS20P4'\n",
       "\\item 'RPL7P1'\n",
       "\\item 'HMGXB3'\n",
       "\\item 'SLC26A2'\n",
       "\\item 'C1orf198'\n",
       "\\item 'COG2'\n",
       "\\item 'C1D'\n",
       "\\item 'CXCR2P1'\n",
       "\\item 'RUFY4'\n",
       "\\item 'TNS1'\n",
       "\\item 'LIMD1'\n",
       "\\item 'SEMA3A'\n",
       "\\item 'ZNF572'\n",
       "\\item 'RP11.1082L8'\n",
       "\\item 'LOH12CR2'\n",
       "\\item 'MANSC1'\n",
       "\\item 'BORCS5'\n",
       "\\item 'LRP6'\n",
       "\\item 'BCL2'\n",
       "\\item 'RPL9P32'\n",
       "\\item 'URI1'\n",
       "\\item 'SSTR3'\n",
       "\\item 'IL2RB'\n",
       "\\item 'C1QTNF6'\n",
       "\\item 'KCTD17'\n",
       "\\item 'Z82188'\n",
       "\\item 'TMPRSS6'\n",
       "\\item 'RP1.151B14.6'\n",
       "\\item 'RAC2'\n",
       "\\item 'DCHS2'\n",
       "\\item 'PLRG1'\n",
       "\\item 'RP11.158C21.3'\n",
       "\\item 'TPO'\n",
       "\\item 'VWF'\n",
       "\\item 'Population'\n",
       "\\end{enumerate*}\n"
      ],
      "text/markdown": [
       "1. 'ID'\n",
       "2. 'Beta'\n",
       "3. 'KDSR'\n",
       "4. 'LARS2'\n",
       "5. 'CSF1R'\n",
       "6. 'PDGFRB'\n",
       "7. 'TIGD6'\n",
       "8. 'RPS20P4'\n",
       "9. 'RPL7P1'\n",
       "10. 'HMGXB3'\n",
       "11. 'SLC26A2'\n",
       "12. 'C1orf198'\n",
       "13. 'COG2'\n",
       "14. 'C1D'\n",
       "15. 'CXCR2P1'\n",
       "16. 'RUFY4'\n",
       "17. 'TNS1'\n",
       "18. 'LIMD1'\n",
       "19. 'SEMA3A'\n",
       "20. 'ZNF572'\n",
       "21. 'RP11.1082L8'\n",
       "22. 'LOH12CR2'\n",
       "23. 'MANSC1'\n",
       "24. 'BORCS5'\n",
       "25. 'LRP6'\n",
       "26. 'BCL2'\n",
       "27. 'RPL9P32'\n",
       "28. 'URI1'\n",
       "29. 'SSTR3'\n",
       "30. 'IL2RB'\n",
       "31. 'C1QTNF6'\n",
       "32. 'KCTD17'\n",
       "33. 'Z82188'\n",
       "34. 'TMPRSS6'\n",
       "35. 'RP1.151B14.6'\n",
       "36. 'RAC2'\n",
       "37. 'DCHS2'\n",
       "38. 'PLRG1'\n",
       "39. 'RP11.158C21.3'\n",
       "40. 'TPO'\n",
       "41. 'VWF'\n",
       "42. 'Population'\n",
       "\n",
       "\n"
      ],
      "text/plain": [
       " [1] \"ID\"            \"Beta\"          \"KDSR\"          \"LARS2\"        \n",
       " [5] \"CSF1R\"         \"PDGFRB\"        \"TIGD6\"         \"RPS20P4\"      \n",
       " [9] \"RPL7P1\"        \"HMGXB3\"        \"SLC26A2\"       \"C1orf198\"     \n",
       "[13] \"COG2\"          \"C1D\"           \"CXCR2P1\"       \"RUFY4\"        \n",
       "[17] \"TNS1\"          \"LIMD1\"         \"SEMA3A\"        \"ZNF572\"       \n",
       "[21] \"RP11.1082L8\"   \"LOH12CR2\"      \"MANSC1\"        \"BORCS5\"       \n",
       "[25] \"LRP6\"          \"BCL2\"          \"RPL9P32\"       \"URI1\"         \n",
       "[29] \"SSTR3\"         \"IL2RB\"         \"C1QTNF6\"       \"KCTD17\"       \n",
       "[33] \"Z82188\"        \"TMPRSS6\"       \"RP1.151B14.6\"  \"RAC2\"         \n",
       "[37] \"DCHS2\"         \"PLRG1\"         \"RP11.158C21.3\" \"TPO\"          \n",
       "[41] \"VWF\"           \"Population\"   "
      ]
     },
     "metadata": {},
     "output_type": "display_data"
    }
   ],
   "source": [
    "# read genotypes and expression. get linear regression and obtain residuals\n",
    "genos = read.csv(\"../1000Genomes_Beta_Genotypes/D22S1045_Mem_Genotypes.txt\", sep='\\t')\n",
    "colnames(genos) <- c('ID','Beta')\n",
    "\n",
    "# Merge Dataframes\n",
    "df_merge <- merge(genos,real_expression,by=\"ID\") #Merge STR and Gene Expression\n",
    "df_final = merge(df_merge,KG_IDs, by=\"ID\") # Merge STR-Expression with 1000 genomes IDs and Population \n",
    "names(df_final)"
   ]
  },
  {
   "cell_type": "code",
   "execution_count": null,
   "metadata": {
    "vscode": {
     "languageId": "r"
    }
   },
   "outputs": [],
   "source": [
    "# SSTR3\n",
    "model = lm(Beta~SSTR3, data=df_final)\n",
    "print(summary(model))\n",
    "print(cor(df_final[\"Beta\"], df_final[\"SSTR3\"]))"
   ]
  },
  {
   "cell_type": "code",
   "execution_count": null,
   "metadata": {
    "vscode": {
     "languageId": "r"
    }
   },
   "outputs": [],
   "source": [
    "# IL2RB\n",
    "model = lm(Beta~RAC2, data=df_final)\n",
    "print(summary(model))\n",
    "print(cor(df_final[\"Beta\"], df_final[\"RAC2\"]))"
   ]
  },
  {
   "cell_type": "markdown",
   "metadata": {},
   "source": [
    "## FGA"
   ]
  },
  {
   "cell_type": "code",
   "execution_count": 188,
   "metadata": {
    "vscode": {
     "languageId": "r"
    }
   },
   "outputs": [
    {
     "data": {
      "text/html": [
       "<style>\n",
       ".list-inline {list-style: none; margin:0; padding: 0}\n",
       ".list-inline>li {display: inline-block}\n",
       ".list-inline>li:not(:last-child)::after {content: \"\\00b7\"; padding: 0 .5ex}\n",
       "</style>\n",
       "<ol class=list-inline><li>'ID'</li><li>'Beta'</li><li>'KDSR'</li><li>'LARS2'</li><li>'CSF1R'</li><li>'PDGFRB'</li><li>'TIGD6'</li><li>'RPS20P4'</li><li>'RPL7P1'</li><li>'HMGXB3'</li><li>'SLC26A2'</li><li>'C1orf198'</li><li>'COG2'</li><li>'C1D'</li><li>'CXCR2P1'</li><li>'RUFY4'</li><li>'TNS1'</li><li>'LIMD1'</li><li>'SEMA3A'</li><li>'ZNF572'</li><li>'RP11.1082L8'</li><li>'LOH12CR2'</li><li>'MANSC1'</li><li>'BORCS5'</li><li>'LRP6'</li><li>'BCL2'</li><li>'RPL9P32'</li><li>'URI1'</li><li>'SSTR3'</li><li>'IL2RB'</li><li>'C1QTNF6'</li><li>'KCTD17'</li><li>'Z82188'</li><li>'TMPRSS6'</li><li>'RP1.151B14.6'</li><li>'RAC2'</li><li>'DCHS2'</li><li>'PLRG1'</li><li>'RP11.158C21.3'</li><li>'TPO'</li><li>'VWF'</li><li>'Population'</li></ol>\n"
      ],
      "text/latex": [
       "\\begin{enumerate*}\n",
       "\\item 'ID'\n",
       "\\item 'Beta'\n",
       "\\item 'KDSR'\n",
       "\\item 'LARS2'\n",
       "\\item 'CSF1R'\n",
       "\\item 'PDGFRB'\n",
       "\\item 'TIGD6'\n",
       "\\item 'RPS20P4'\n",
       "\\item 'RPL7P1'\n",
       "\\item 'HMGXB3'\n",
       "\\item 'SLC26A2'\n",
       "\\item 'C1orf198'\n",
       "\\item 'COG2'\n",
       "\\item 'C1D'\n",
       "\\item 'CXCR2P1'\n",
       "\\item 'RUFY4'\n",
       "\\item 'TNS1'\n",
       "\\item 'LIMD1'\n",
       "\\item 'SEMA3A'\n",
       "\\item 'ZNF572'\n",
       "\\item 'RP11.1082L8'\n",
       "\\item 'LOH12CR2'\n",
       "\\item 'MANSC1'\n",
       "\\item 'BORCS5'\n",
       "\\item 'LRP6'\n",
       "\\item 'BCL2'\n",
       "\\item 'RPL9P32'\n",
       "\\item 'URI1'\n",
       "\\item 'SSTR3'\n",
       "\\item 'IL2RB'\n",
       "\\item 'C1QTNF6'\n",
       "\\item 'KCTD17'\n",
       "\\item 'Z82188'\n",
       "\\item 'TMPRSS6'\n",
       "\\item 'RP1.151B14.6'\n",
       "\\item 'RAC2'\n",
       "\\item 'DCHS2'\n",
       "\\item 'PLRG1'\n",
       "\\item 'RP11.158C21.3'\n",
       "\\item 'TPO'\n",
       "\\item 'VWF'\n",
       "\\item 'Population'\n",
       "\\end{enumerate*}\n"
      ],
      "text/markdown": [
       "1. 'ID'\n",
       "2. 'Beta'\n",
       "3. 'KDSR'\n",
       "4. 'LARS2'\n",
       "5. 'CSF1R'\n",
       "6. 'PDGFRB'\n",
       "7. 'TIGD6'\n",
       "8. 'RPS20P4'\n",
       "9. 'RPL7P1'\n",
       "10. 'HMGXB3'\n",
       "11. 'SLC26A2'\n",
       "12. 'C1orf198'\n",
       "13. 'COG2'\n",
       "14. 'C1D'\n",
       "15. 'CXCR2P1'\n",
       "16. 'RUFY4'\n",
       "17. 'TNS1'\n",
       "18. 'LIMD1'\n",
       "19. 'SEMA3A'\n",
       "20. 'ZNF572'\n",
       "21. 'RP11.1082L8'\n",
       "22. 'LOH12CR2'\n",
       "23. 'MANSC1'\n",
       "24. 'BORCS5'\n",
       "25. 'LRP6'\n",
       "26. 'BCL2'\n",
       "27. 'RPL9P32'\n",
       "28. 'URI1'\n",
       "29. 'SSTR3'\n",
       "30. 'IL2RB'\n",
       "31. 'C1QTNF6'\n",
       "32. 'KCTD17'\n",
       "33. 'Z82188'\n",
       "34. 'TMPRSS6'\n",
       "35. 'RP1.151B14.6'\n",
       "36. 'RAC2'\n",
       "37. 'DCHS2'\n",
       "38. 'PLRG1'\n",
       "39. 'RP11.158C21.3'\n",
       "40. 'TPO'\n",
       "41. 'VWF'\n",
       "42. 'Population'\n",
       "\n",
       "\n"
      ],
      "text/plain": [
       " [1] \"ID\"            \"Beta\"          \"KDSR\"          \"LARS2\"        \n",
       " [5] \"CSF1R\"         \"PDGFRB\"        \"TIGD6\"         \"RPS20P4\"      \n",
       " [9] \"RPL7P1\"        \"HMGXB3\"        \"SLC26A2\"       \"C1orf198\"     \n",
       "[13] \"COG2\"          \"C1D\"           \"CXCR2P1\"       \"RUFY4\"        \n",
       "[17] \"TNS1\"          \"LIMD1\"         \"SEMA3A\"        \"ZNF572\"       \n",
       "[21] \"RP11.1082L8\"   \"LOH12CR2\"      \"MANSC1\"        \"BORCS5\"       \n",
       "[25] \"LRP6\"          \"BCL2\"          \"RPL9P32\"       \"URI1\"         \n",
       "[29] \"SSTR3\"         \"IL2RB\"         \"C1QTNF6\"       \"KCTD17\"       \n",
       "[33] \"Z82188\"        \"TMPRSS6\"       \"RP1.151B14.6\"  \"RAC2\"         \n",
       "[37] \"DCHS2\"         \"PLRG1\"         \"RP11.158C21.3\" \"TPO\"          \n",
       "[41] \"VWF\"           \"Population\"   "
      ]
     },
     "metadata": {},
     "output_type": "display_data"
    }
   ],
   "source": [
    "# read genotypes and expression. get linear regression and obtain residuals\n",
    "genos = read.csv(\"../1000Genomes_Beta_Genotypes/FGA_Mem_Genotypes.txt\", sep='\\t')\n",
    "colnames(genos) <- c('ID','Beta')\n",
    "\n",
    "# Merge Dataframes\n",
    "df_merge <- merge(genos,real_expression,by=\"ID\") #Merge STR and Gene Expression\n",
    "df_final = merge(df_merge,KG_IDs, by=\"ID\") # Merge STR-Expression with 1000 genomes IDs and Population \n",
    "names(df_final)"
   ]
  },
  {
   "cell_type": "code",
   "execution_count": null,
   "metadata": {
    "vscode": {
     "languageId": "r"
    }
   },
   "outputs": [],
   "source": [
    "# IL2RB\n",
    "model = lm(Beta~RP11.158C21.3, data=df_final)\n",
    "print(summary(model))\n",
    "print(cor(df_final[\"Beta\"], df_final[\"RP11.158C21.3\"]))"
   ]
  },
  {
   "cell_type": "markdown",
   "metadata": {},
   "source": [
    "## TPOX"
   ]
  },
  {
   "cell_type": "code",
   "execution_count": 192,
   "metadata": {
    "vscode": {
     "languageId": "r"
    }
   },
   "outputs": [
    {
     "data": {
      "text/html": [
       "<style>\n",
       ".list-inline {list-style: none; margin:0; padding: 0}\n",
       ".list-inline>li {display: inline-block}\n",
       ".list-inline>li:not(:last-child)::after {content: \"\\00b7\"; padding: 0 .5ex}\n",
       "</style>\n",
       "<ol class=list-inline><li>'ID'</li><li>'Beta'</li><li>'KDSR'</li><li>'LARS2'</li><li>'CSF1R'</li><li>'PDGFRB'</li><li>'TIGD6'</li><li>'RPS20P4'</li><li>'RPL7P1'</li><li>'HMGXB3'</li><li>'SLC26A2'</li><li>'C1orf198'</li><li>'COG2'</li><li>'C1D'</li><li>'CXCR2P1'</li><li>'RUFY4'</li><li>'TNS1'</li><li>'LIMD1'</li><li>'SEMA3A'</li><li>'ZNF572'</li><li>'RP11.1082L8'</li><li>'LOH12CR2'</li><li>'MANSC1'</li><li>'BORCS5'</li><li>'LRP6'</li><li>'BCL2'</li><li>'RPL9P32'</li><li>'URI1'</li><li>'SSTR3'</li><li>'IL2RB'</li><li>'C1QTNF6'</li><li>'KCTD17'</li><li>'Z82188'</li><li>'TMPRSS6'</li><li>'RP1.151B14.6'</li><li>'RAC2'</li><li>'DCHS2'</li><li>'PLRG1'</li><li>'RP11.158C21.3'</li><li>'TPO'</li><li>'VWF'</li><li>'Population'</li></ol>\n"
      ],
      "text/latex": [
       "\\begin{enumerate*}\n",
       "\\item 'ID'\n",
       "\\item 'Beta'\n",
       "\\item 'KDSR'\n",
       "\\item 'LARS2'\n",
       "\\item 'CSF1R'\n",
       "\\item 'PDGFRB'\n",
       "\\item 'TIGD6'\n",
       "\\item 'RPS20P4'\n",
       "\\item 'RPL7P1'\n",
       "\\item 'HMGXB3'\n",
       "\\item 'SLC26A2'\n",
       "\\item 'C1orf198'\n",
       "\\item 'COG2'\n",
       "\\item 'C1D'\n",
       "\\item 'CXCR2P1'\n",
       "\\item 'RUFY4'\n",
       "\\item 'TNS1'\n",
       "\\item 'LIMD1'\n",
       "\\item 'SEMA3A'\n",
       "\\item 'ZNF572'\n",
       "\\item 'RP11.1082L8'\n",
       "\\item 'LOH12CR2'\n",
       "\\item 'MANSC1'\n",
       "\\item 'BORCS5'\n",
       "\\item 'LRP6'\n",
       "\\item 'BCL2'\n",
       "\\item 'RPL9P32'\n",
       "\\item 'URI1'\n",
       "\\item 'SSTR3'\n",
       "\\item 'IL2RB'\n",
       "\\item 'C1QTNF6'\n",
       "\\item 'KCTD17'\n",
       "\\item 'Z82188'\n",
       "\\item 'TMPRSS6'\n",
       "\\item 'RP1.151B14.6'\n",
       "\\item 'RAC2'\n",
       "\\item 'DCHS2'\n",
       "\\item 'PLRG1'\n",
       "\\item 'RP11.158C21.3'\n",
       "\\item 'TPO'\n",
       "\\item 'VWF'\n",
       "\\item 'Population'\n",
       "\\end{enumerate*}\n"
      ],
      "text/markdown": [
       "1. 'ID'\n",
       "2. 'Beta'\n",
       "3. 'KDSR'\n",
       "4. 'LARS2'\n",
       "5. 'CSF1R'\n",
       "6. 'PDGFRB'\n",
       "7. 'TIGD6'\n",
       "8. 'RPS20P4'\n",
       "9. 'RPL7P1'\n",
       "10. 'HMGXB3'\n",
       "11. 'SLC26A2'\n",
       "12. 'C1orf198'\n",
       "13. 'COG2'\n",
       "14. 'C1D'\n",
       "15. 'CXCR2P1'\n",
       "16. 'RUFY4'\n",
       "17. 'TNS1'\n",
       "18. 'LIMD1'\n",
       "19. 'SEMA3A'\n",
       "20. 'ZNF572'\n",
       "21. 'RP11.1082L8'\n",
       "22. 'LOH12CR2'\n",
       "23. 'MANSC1'\n",
       "24. 'BORCS5'\n",
       "25. 'LRP6'\n",
       "26. 'BCL2'\n",
       "27. 'RPL9P32'\n",
       "28. 'URI1'\n",
       "29. 'SSTR3'\n",
       "30. 'IL2RB'\n",
       "31. 'C1QTNF6'\n",
       "32. 'KCTD17'\n",
       "33. 'Z82188'\n",
       "34. 'TMPRSS6'\n",
       "35. 'RP1.151B14.6'\n",
       "36. 'RAC2'\n",
       "37. 'DCHS2'\n",
       "38. 'PLRG1'\n",
       "39. 'RP11.158C21.3'\n",
       "40. 'TPO'\n",
       "41. 'VWF'\n",
       "42. 'Population'\n",
       "\n",
       "\n"
      ],
      "text/plain": [
       " [1] \"ID\"            \"Beta\"          \"KDSR\"          \"LARS2\"        \n",
       " [5] \"CSF1R\"         \"PDGFRB\"        \"TIGD6\"         \"RPS20P4\"      \n",
       " [9] \"RPL7P1\"        \"HMGXB3\"        \"SLC26A2\"       \"C1orf198\"     \n",
       "[13] \"COG2\"          \"C1D\"           \"CXCR2P1\"       \"RUFY4\"        \n",
       "[17] \"TNS1\"          \"LIMD1\"         \"SEMA3A\"        \"ZNF572\"       \n",
       "[21] \"RP11.1082L8\"   \"LOH12CR2\"      \"MANSC1\"        \"BORCS5\"       \n",
       "[25] \"LRP6\"          \"BCL2\"          \"RPL9P32\"       \"URI1\"         \n",
       "[29] \"SSTR3\"         \"IL2RB\"         \"C1QTNF6\"       \"KCTD17\"       \n",
       "[33] \"Z82188\"        \"TMPRSS6\"       \"RP1.151B14.6\"  \"RAC2\"         \n",
       "[37] \"DCHS2\"         \"PLRG1\"         \"RP11.158C21.3\" \"TPO\"          \n",
       "[41] \"VWF\"           \"Population\"   "
      ]
     },
     "metadata": {},
     "output_type": "display_data"
    }
   ],
   "source": [
    "# read genotypes and expression. get linear regression and obtain residuals\n",
    "genos = read.csv(\"../1000Genomes_Beta_Genotypes/TPOX_Mem_Genotypes.txt\", sep='\\t')\n",
    "colnames(genos) <- c('ID','Beta')\n",
    "\n",
    "# Merge Dataframes\n",
    "df_merge <- merge(genos,real_expression,by=\"ID\") #Merge STR and Gene Expression\n",
    "df_final = merge(df_merge,KG_IDs, by=\"ID\") # Merge STR-Expression with 1000 genomes IDs and Population \n",
    "names(df_final)"
   ]
  },
  {
   "cell_type": "code",
   "execution_count": null,
   "metadata": {
    "vscode": {
     "languageId": "r"
    }
   },
   "outputs": [],
   "source": [
    "# TPO\n",
    "model = lm(Beta~TPO, data=df_final)\n",
    "print(summary(model))\n",
    "print(cor(df_final[\"Beta\"], df_final[\"TPO\"]))"
   ]
  },
  {
   "cell_type": "markdown",
   "metadata": {},
   "source": [
    "## VWA"
   ]
  },
  {
   "cell_type": "code",
   "execution_count": 194,
   "metadata": {
    "vscode": {
     "languageId": "r"
    }
   },
   "outputs": [
    {
     "data": {
      "text/html": [
       "<style>\n",
       ".list-inline {list-style: none; margin:0; padding: 0}\n",
       ".list-inline>li {display: inline-block}\n",
       ".list-inline>li:not(:last-child)::after {content: \"\\00b7\"; padding: 0 .5ex}\n",
       "</style>\n",
       "<ol class=list-inline><li>'ID'</li><li>'Beta'</li><li>'KDSR'</li><li>'LARS2'</li><li>'CSF1R'</li><li>'PDGFRB'</li><li>'TIGD6'</li><li>'RPS20P4'</li><li>'RPL7P1'</li><li>'HMGXB3'</li><li>'SLC26A2'</li><li>'C1orf198'</li><li>'COG2'</li><li>'C1D'</li><li>'CXCR2P1'</li><li>'RUFY4'</li><li>'TNS1'</li><li>'LIMD1'</li><li>'SEMA3A'</li><li>'ZNF572'</li><li>'RP11.1082L8'</li><li>'LOH12CR2'</li><li>'MANSC1'</li><li>'BORCS5'</li><li>'LRP6'</li><li>'BCL2'</li><li>'RPL9P32'</li><li>'URI1'</li><li>'SSTR3'</li><li>'IL2RB'</li><li>'C1QTNF6'</li><li>'KCTD17'</li><li>'Z82188'</li><li>'TMPRSS6'</li><li>'RP1.151B14.6'</li><li>'RAC2'</li><li>'DCHS2'</li><li>'PLRG1'</li><li>'RP11.158C21.3'</li><li>'TPO'</li><li>'VWF'</li><li>'Population'</li></ol>\n"
      ],
      "text/latex": [
       "\\begin{enumerate*}\n",
       "\\item 'ID'\n",
       "\\item 'Beta'\n",
       "\\item 'KDSR'\n",
       "\\item 'LARS2'\n",
       "\\item 'CSF1R'\n",
       "\\item 'PDGFRB'\n",
       "\\item 'TIGD6'\n",
       "\\item 'RPS20P4'\n",
       "\\item 'RPL7P1'\n",
       "\\item 'HMGXB3'\n",
       "\\item 'SLC26A2'\n",
       "\\item 'C1orf198'\n",
       "\\item 'COG2'\n",
       "\\item 'C1D'\n",
       "\\item 'CXCR2P1'\n",
       "\\item 'RUFY4'\n",
       "\\item 'TNS1'\n",
       "\\item 'LIMD1'\n",
       "\\item 'SEMA3A'\n",
       "\\item 'ZNF572'\n",
       "\\item 'RP11.1082L8'\n",
       "\\item 'LOH12CR2'\n",
       "\\item 'MANSC1'\n",
       "\\item 'BORCS5'\n",
       "\\item 'LRP6'\n",
       "\\item 'BCL2'\n",
       "\\item 'RPL9P32'\n",
       "\\item 'URI1'\n",
       "\\item 'SSTR3'\n",
       "\\item 'IL2RB'\n",
       "\\item 'C1QTNF6'\n",
       "\\item 'KCTD17'\n",
       "\\item 'Z82188'\n",
       "\\item 'TMPRSS6'\n",
       "\\item 'RP1.151B14.6'\n",
       "\\item 'RAC2'\n",
       "\\item 'DCHS2'\n",
       "\\item 'PLRG1'\n",
       "\\item 'RP11.158C21.3'\n",
       "\\item 'TPO'\n",
       "\\item 'VWF'\n",
       "\\item 'Population'\n",
       "\\end{enumerate*}\n"
      ],
      "text/markdown": [
       "1. 'ID'\n",
       "2. 'Beta'\n",
       "3. 'KDSR'\n",
       "4. 'LARS2'\n",
       "5. 'CSF1R'\n",
       "6. 'PDGFRB'\n",
       "7. 'TIGD6'\n",
       "8. 'RPS20P4'\n",
       "9. 'RPL7P1'\n",
       "10. 'HMGXB3'\n",
       "11. 'SLC26A2'\n",
       "12. 'C1orf198'\n",
       "13. 'COG2'\n",
       "14. 'C1D'\n",
       "15. 'CXCR2P1'\n",
       "16. 'RUFY4'\n",
       "17. 'TNS1'\n",
       "18. 'LIMD1'\n",
       "19. 'SEMA3A'\n",
       "20. 'ZNF572'\n",
       "21. 'RP11.1082L8'\n",
       "22. 'LOH12CR2'\n",
       "23. 'MANSC1'\n",
       "24. 'BORCS5'\n",
       "25. 'LRP6'\n",
       "26. 'BCL2'\n",
       "27. 'RPL9P32'\n",
       "28. 'URI1'\n",
       "29. 'SSTR3'\n",
       "30. 'IL2RB'\n",
       "31. 'C1QTNF6'\n",
       "32. 'KCTD17'\n",
       "33. 'Z82188'\n",
       "34. 'TMPRSS6'\n",
       "35. 'RP1.151B14.6'\n",
       "36. 'RAC2'\n",
       "37. 'DCHS2'\n",
       "38. 'PLRG1'\n",
       "39. 'RP11.158C21.3'\n",
       "40. 'TPO'\n",
       "41. 'VWF'\n",
       "42. 'Population'\n",
       "\n",
       "\n"
      ],
      "text/plain": [
       " [1] \"ID\"            \"Beta\"          \"KDSR\"          \"LARS2\"        \n",
       " [5] \"CSF1R\"         \"PDGFRB\"        \"TIGD6\"         \"RPS20P4\"      \n",
       " [9] \"RPL7P1\"        \"HMGXB3\"        \"SLC26A2\"       \"C1orf198\"     \n",
       "[13] \"COG2\"          \"C1D\"           \"CXCR2P1\"       \"RUFY4\"        \n",
       "[17] \"TNS1\"          \"LIMD1\"         \"SEMA3A\"        \"ZNF572\"       \n",
       "[21] \"RP11.1082L8\"   \"LOH12CR2\"      \"MANSC1\"        \"BORCS5\"       \n",
       "[25] \"LRP6\"          \"BCL2\"          \"RPL9P32\"       \"URI1\"         \n",
       "[29] \"SSTR3\"         \"IL2RB\"         \"C1QTNF6\"       \"KCTD17\"       \n",
       "[33] \"Z82188\"        \"TMPRSS6\"       \"RP1.151B14.6\"  \"RAC2\"         \n",
       "[37] \"DCHS2\"         \"PLRG1\"         \"RP11.158C21.3\" \"TPO\"          \n",
       "[41] \"VWF\"           \"Population\"   "
      ]
     },
     "metadata": {},
     "output_type": "display_data"
    }
   ],
   "source": [
    "# read genotypes and expression. get linear regression and obtain residuals\n",
    "genos = read.csv(\"../1000Genomes_Beta_Genotypes/vWA_Mem_Genotypes.txt\", sep='\\t')\n",
    "colnames(genos) <- c('ID','Beta')\n",
    "\n",
    "# Merge Dataframes\n",
    "df_merge <- merge(genos,real_expression,by=\"ID\") #Merge STR and Gene Expression\n",
    "df_final = merge(df_merge,KG_IDs, by=\"ID\") # Merge STR-Expression with 1000 genomes IDs and Population \n",
    "names(df_final)"
   ]
  },
  {
   "cell_type": "code",
   "execution_count": 195,
   "metadata": {
    "vscode": {
     "languageId": "r"
    }
   },
   "outputs": [
    {
     "name": "stdout",
     "output_type": "stream",
     "text": [
      "\n",
      "Call:\n",
      "lm(formula = Beta ~ VWF, data = df_final)\n",
      "\n",
      "Residuals:\n",
      "    Min      1Q  Median      3Q     Max \n",
      "-4.1776 -1.3295  0.0289  1.3769  4.8446 \n",
      "\n",
      "Coefficients:\n",
      "            Estimate Std. Error t value Pr(>|t|)    \n",
      "(Intercept)  37.1478     0.1343 276.522   <2e-16 ***\n",
      "VWF           5.6804     6.2741   0.905    0.366    \n",
      "---\n",
      "Signif. codes:  0 ‘***’ 0.001 ‘**’ 0.01 ‘*’ 0.05 ‘.’ 0.1 ‘ ’ 1\n",
      "\n",
      "Residual standard error: 1.823 on 370 degrees of freedom\n",
      "Multiple R-squared:  0.00221,\tAdjusted R-squared:  -0.0004862 \n",
      "F-statistic: 0.8197 on 1 and 370 DF,  p-value: 0.3659\n",
      "\n",
      "            VWF\n",
      "Beta 0.04701574\n"
     ]
    }
   ],
   "source": [
    "# TPO\n",
    "model = lm(Beta~VWF, data=df_final)\n",
    "print(summary(model))\n",
    "print(cor(df_final[\"Beta\"], df_final[\"VWF\"]))"
   ]
  },
  {
   "cell_type": "code",
   "execution_count": null,
   "metadata": {
    "vscode": {
     "languageId": "r"
    }
   },
   "outputs": [],
   "source": []
  },
  {
   "cell_type": "code",
   "execution_count": null,
   "metadata": {
    "vscode": {
     "languageId": "r"
    }
   },
   "outputs": [],
   "source": []
  },
  {
   "cell_type": "markdown",
   "metadata": {},
   "source": [
    "### By population subsetting and double checking regressions. \n",
    "### Then compute pearson correlation"
   ]
  },
  {
   "cell_type": "code",
   "execution_count": 151,
   "metadata": {
    "vscode": {
     "languageId": "r"
    }
   },
   "outputs": [
    {
     "data": {
      "text/html": [
       "<style>\n",
       ".list-inline {list-style: none; margin:0; padding: 0}\n",
       ".list-inline>li {display: inline-block}\n",
       ".list-inline>li:not(:last-child)::after {content: \"\\00b7\"; padding: 0 .5ex}\n",
       "</style>\n",
       "<ol class=list-inline><li>65</li><li>42</li></ol>\n"
      ],
      "text/latex": [
       "\\begin{enumerate*}\n",
       "\\item 65\n",
       "\\item 42\n",
       "\\end{enumerate*}\n"
      ],
      "text/markdown": [
       "1. 65\n",
       "2. 42\n",
       "\n",
       "\n"
      ],
      "text/plain": [
       "[1] 65 42"
      ]
     },
     "metadata": {},
     "output_type": "display_data"
    },
    {
     "name": "stdout",
     "output_type": "stream",
     "text": [
      "\n",
      "Call:\n",
      "lm(formula = Beta ~ CSF1R, data = CEU)\n",
      "\n",
      "Residuals:\n",
      "   Min     1Q Median     3Q    Max \n",
      "-7.721 -2.604  1.021  1.651  3.524 \n",
      "\n",
      "Coefficients:\n",
      "            Estimate Std. Error t value Pr(>|t|)    \n",
      "(Intercept)  29.9969     0.3922  76.480   <2e-16 ***\n",
      "CSF1R         0.1178     1.2004   0.098    0.922    \n",
      "---\n",
      "Signif. codes:  0 ‘***’ 0.001 ‘**’ 0.01 ‘*’ 0.05 ‘.’ 0.1 ‘ ’ 1\n",
      "\n",
      "Residual standard error: 2.296 on 63 degrees of freedom\n",
      "Multiple R-squared:  0.0001527,\tAdjusted R-squared:  -0.01572 \n",
      "F-statistic: 0.009623 on 1 and 63 DF,  p-value: 0.9222\n",
      "\n",
      "          CSF1R\n",
      "Beta 0.01235837\n"
     ]
    }
   ],
   "source": [
    "CEU = subset(df_final, Population == 'CEU')\n",
    "dim(CEU)\n",
    "model = lm(Beta~CSF1R, data=CEU)\n",
    "print(summary(model))\n",
    "print(cor(CEU[\"Beta\"], CEU[\"CSF1R\"]))"
   ]
  },
  {
   "cell_type": "code",
   "execution_count": 152,
   "metadata": {
    "vscode": {
     "languageId": "r"
    }
   },
   "outputs": [
    {
     "name": "stdout",
     "output_type": "stream",
     "text": [
      "[1] 81 42\n",
      "\n",
      "Call:\n",
      "lm(formula = Beta ~ CSF1R, data = FIN)\n",
      "\n",
      "Residuals:\n",
      "   Min     1Q Median     3Q    Max \n",
      "-4.426 -1.617  0.793  1.323  3.326 \n",
      "\n",
      "Coefficients:\n",
      "            Estimate Std. Error t value Pr(>|t|)    \n",
      "(Intercept)  30.5301     0.4532  67.372   <2e-16 ***\n",
      "CSF1R        -2.0717     1.5454  -1.341    0.184    \n",
      "---\n",
      "Signif. codes:  0 ‘***’ 0.001 ‘**’ 0.01 ‘*’ 0.05 ‘.’ 0.1 ‘ ’ 1\n",
      "\n",
      "Residual standard error: 2.071 on 79 degrees of freedom\n",
      "Multiple R-squared:  0.02224,\tAdjusted R-squared:  0.009866 \n",
      "F-statistic: 1.797 on 1 and 79 DF,  p-value: 0.1839\n",
      "\n",
      "         CSF1R\n",
      "Beta -0.149139\n"
     ]
    }
   ],
   "source": [
    "FIN = subset(df_final, Population == 'FIN')\n",
    "print(dim(FIN))\n",
    "model = lm(Beta~CSF1R, data=FIN)\n",
    "print(summary(model))\n",
    "print(cor(FIN[\"Beta\"], FIN[\"CSF1R\"]))"
   ]
  },
  {
   "cell_type": "code",
   "execution_count": 153,
   "metadata": {
    "vscode": {
     "languageId": "r"
    }
   },
   "outputs": [
    {
     "name": "stdout",
     "output_type": "stream",
     "text": [
      "[1] 73 42\n",
      "\n",
      "Call:\n",
      "lm(formula = Beta ~ CSF1R, data = GBR)\n",
      "\n",
      "Residuals:\n",
      "    Min      1Q  Median      3Q     Max \n",
      "-4.7208 -0.4810  0.4778  1.3689  2.4385 \n",
      "\n",
      "Coefficients:\n",
      "             Estimate Std. Error t value Pr(>|t|)    \n",
      "(Intercept) 30.579736   0.371973  82.210   <2e-16 ***\n",
      "CSF1R        0.006115   0.906554   0.007    0.995    \n",
      "---\n",
      "Signif. codes:  0 ‘***’ 0.001 ‘**’ 0.01 ‘*’ 0.05 ‘.’ 0.1 ‘ ’ 1\n",
      "\n",
      "Residual standard error: 1.841 on 71 degrees of freedom\n",
      "Multiple R-squared:  6.408e-07,\tAdjusted R-squared:  -0.01408 \n",
      "F-statistic: 4.55e-05 on 1 and 71 DF,  p-value: 0.9946\n",
      "\n",
      "            CSF1R\n",
      "Beta 0.0008005015\n"
     ]
    }
   ],
   "source": [
    "GBR = subset(df_final, Population == 'GBR')\n",
    "print(dim(GBR))\n",
    "model = lm(Beta~CSF1R, data=GBR)\n",
    "print(summary(model))\n",
    "print(cor(GBR[\"Beta\"], GBR[\"CSF1R\"]))"
   ]
  },
  {
   "cell_type": "code",
   "execution_count": 154,
   "metadata": {
    "vscode": {
     "languageId": "r"
    }
   },
   "outputs": [
    {
     "name": "stdout",
     "output_type": "stream",
     "text": [
      "[1] 83 42\n",
      "\n",
      "Call:\n",
      "lm(formula = Beta ~ CSF1R, data = TSI)\n",
      "\n",
      "Residuals:\n",
      "    Min      1Q  Median      3Q     Max \n",
      "-4.7892 -0.5337  0.5147  1.1026  3.0572 \n",
      "\n",
      "Coefficients:\n",
      "            Estimate Std. Error t value Pr(>|t|)    \n",
      "(Intercept)  29.8035     0.3596  82.882   <2e-16 ***\n",
      "CSF1R         0.7268     0.8479   0.857    0.394    \n",
      "---\n",
      "Signif. codes:  0 ‘***’ 0.001 ‘**’ 0.01 ‘*’ 0.05 ‘.’ 0.1 ‘ ’ 1\n",
      "\n",
      "Residual standard error: 1.98 on 81 degrees of freedom\n",
      "Multiple R-squared:  0.008989,\tAdjusted R-squared:  -0.003246 \n",
      "F-statistic: 0.7347 on 1 and 81 DF,  p-value: 0.3939\n",
      "\n",
      "          CSF1R\n",
      "Beta 0.09480923\n"
     ]
    }
   ],
   "source": [
    "TSI = subset(df_final, Population == 'TSI')\n",
    "print(dim(TSI))\n",
    "model = lm(Beta~CSF1R, data=TSI)\n",
    "print(summary(model))\n",
    "print(cor(TSI[\"Beta\"], TSI[\"CSF1R\"]))"
   ]
  },
  {
   "cell_type": "code",
   "execution_count": 155,
   "metadata": {
    "vscode": {
     "languageId": "r"
    }
   },
   "outputs": [
    {
     "name": "stdout",
     "output_type": "stream",
     "text": [
      "[1] 70 42\n",
      "\n",
      "Call:\n",
      "lm(formula = Beta ~ CSF1R, data = YRI)\n",
      "\n",
      "Residuals:\n",
      "    Min      1Q  Median      3Q     Max \n",
      "-9.1151 -1.8533  0.7222  2.1870  4.6178 \n",
      "\n",
      "Coefficients:\n",
      "            Estimate Std. Error t value Pr(>|t|)    \n",
      "(Intercept)  29.5654     0.5465  54.100   <2e-16 ***\n",
      "CSF1R        -0.4975     0.9921  -0.501    0.618    \n",
      "---\n",
      "Signif. codes:  0 ‘***’ 0.001 ‘**’ 0.01 ‘*’ 0.05 ‘.’ 0.1 ‘ ’ 1\n",
      "\n",
      "Residual standard error: 2.912 on 68 degrees of freedom\n",
      "Multiple R-squared:  0.003684,\tAdjusted R-squared:  -0.01097 \n",
      "F-statistic: 0.2515 on 1 and 68 DF,  p-value: 0.6177\n",
      "\n",
      "           CSF1R\n",
      "Beta -0.06069885\n"
     ]
    }
   ],
   "source": [
    "YRI = subset(df_final, Population == 'YRI')\n",
    "print(dim(YRI))\n",
    "model = lm(Beta~CSF1R, data=YRI)\n",
    "print(summary(model))\n",
    "print(cor(YRI[\"Beta\"], YRI[\"CSF1R\"]))"
   ]
  },
  {
   "cell_type": "markdown",
   "metadata": {},
   "source": [
    "### CSF1PO by subpopulations for TIGD6"
   ]
  },
  {
   "cell_type": "code",
   "execution_count": 156,
   "metadata": {
    "vscode": {
     "languageId": "r"
    }
   },
   "outputs": [
    {
     "data": {
      "text/html": [
       "<style>\n",
       ".list-inline {list-style: none; margin:0; padding: 0}\n",
       ".list-inline>li {display: inline-block}\n",
       ".list-inline>li:not(:last-child)::after {content: \"\\00b7\"; padding: 0 .5ex}\n",
       "</style>\n",
       "<ol class=list-inline><li>65</li><li>42</li></ol>\n"
      ],
      "text/latex": [
       "\\begin{enumerate*}\n",
       "\\item 65\n",
       "\\item 42\n",
       "\\end{enumerate*}\n"
      ],
      "text/markdown": [
       "1. 65\n",
       "2. 42\n",
       "\n",
       "\n"
      ],
      "text/plain": [
       "[1] 65 42"
      ]
     },
     "metadata": {},
     "output_type": "display_data"
    },
    {
     "name": "stdout",
     "output_type": "stream",
     "text": [
      "\n",
      "Call:\n",
      "lm(formula = Beta ~ TIGD6, data = CEU)\n",
      "\n",
      "Residuals:\n",
      "    Min      1Q  Median      3Q     Max \n",
      "-7.6256 -2.4964  0.9556  1.6162  3.5531 \n",
      "\n",
      "Coefficients:\n",
      "            Estimate Std. Error t value Pr(>|t|)    \n",
      "(Intercept)  30.9137     1.7106  18.072   <2e-16 ***\n",
      "TIGD6        -0.4687     0.8879  -0.528    0.599    \n",
      "---\n",
      "Signif. codes:  0 ‘***’ 0.001 ‘**’ 0.01 ‘*’ 0.05 ‘.’ 0.1 ‘ ’ 1\n",
      "\n",
      "Residual standard error: 2.291 on 63 degrees of freedom\n",
      "Multiple R-squared:  0.004403,\tAdjusted R-squared:  -0.0114 \n",
      "F-statistic: 0.2786 on 1 and 63 DF,  p-value: 0.5995\n",
      "\n",
      "           TIGD6\n",
      "Beta -0.06635151\n"
     ]
    }
   ],
   "source": [
    "CEU = subset(df_final, Population == 'CEU')\n",
    "dim(CEU)\n",
    "model = lm(Beta~TIGD6, data=CEU)\n",
    "print(summary(model))\n",
    "print(cor(CEU[\"Beta\"], CEU[\"TIGD6\"]))"
   ]
  },
  {
   "cell_type": "code",
   "execution_count": 157,
   "metadata": {
    "vscode": {
     "languageId": "r"
    }
   },
   "outputs": [
    {
     "data": {
      "text/html": [
       "<style>\n",
       ".list-inline {list-style: none; margin:0; padding: 0}\n",
       ".list-inline>li {display: inline-block}\n",
       ".list-inline>li:not(:last-child)::after {content: \"\\00b7\"; padding: 0 .5ex}\n",
       "</style>\n",
       "<ol class=list-inline><li>70</li><li>42</li></ol>\n"
      ],
      "text/latex": [
       "\\begin{enumerate*}\n",
       "\\item 70\n",
       "\\item 42\n",
       "\\end{enumerate*}\n"
      ],
      "text/markdown": [
       "1. 70\n",
       "2. 42\n",
       "\n",
       "\n"
      ],
      "text/plain": [
       "[1] 70 42"
      ]
     },
     "metadata": {},
     "output_type": "display_data"
    },
    {
     "name": "stdout",
     "output_type": "stream",
     "text": [
      "\n",
      "Call:\n",
      "lm(formula = Beta ~ TIGD6, data = CEU)\n",
      "\n",
      "Residuals:\n",
      "    Min      1Q  Median      3Q     Max \n",
      "-8.8783 -1.8579  0.6219  2.2588  4.5699 \n",
      "\n",
      "Coefficients:\n",
      "            Estimate Std. Error t value Pr(>|t|)    \n",
      "(Intercept)  30.3206     2.0560  14.748   <2e-16 ***\n",
      "TIGD6        -0.4874     1.0219  -0.477    0.635    \n",
      "---\n",
      "Signif. codes:  0 ‘***’ 0.001 ‘**’ 0.01 ‘*’ 0.05 ‘.’ 0.1 ‘ ’ 1\n",
      "\n",
      "Residual standard error: 2.912 on 68 degrees of freedom\n",
      "Multiple R-squared:  0.003334,\tAdjusted R-squared:  -0.01132 \n",
      "F-statistic: 0.2275 on 1 and 68 DF,  p-value: 0.6349\n",
      "\n",
      "           TIGD6\n",
      "Beta -0.05774245\n"
     ]
    }
   ],
   "source": [
    "# ONLY CHNANGE POPULATION (SAME GENE, SAME BETA)\n",
    "CEU = subset(df_final, Population == 'YRI')\n",
    "dim(CEU)\n",
    "model = lm(Beta~TIGD6, data=CEU)\n",
    "print(summary(model))\n",
    "print(cor(CEU[\"Beta\"], CEU[\"TIGD6\"]))"
   ]
  },
  {
   "cell_type": "markdown",
   "metadata": {},
   "source": [
    "### D2S441 by subpopulation for C1D"
   ]
  },
  {
   "cell_type": "code",
   "execution_count": 158,
   "metadata": {
    "vscode": {
     "languageId": "r"
    }
   },
   "outputs": [
    {
     "data": {
      "text/html": [
       "<style>\n",
       ".list-inline {list-style: none; margin:0; padding: 0}\n",
       ".list-inline>li {display: inline-block}\n",
       ".list-inline>li:not(:last-child)::after {content: \"\\00b7\"; padding: 0 .5ex}\n",
       "</style>\n",
       "<ol class=list-inline><li>'ID'</li><li>'Beta'</li><li>'CSF1R'</li><li>'TIGD6'</li><li>'C1D'</li><li>'LARS2'</li><li>'KDSR'</li><li>'PLRG1'</li><li>'Population'</li></ol>\n"
      ],
      "text/latex": [
       "\\begin{enumerate*}\n",
       "\\item 'ID'\n",
       "\\item 'Beta'\n",
       "\\item 'CSF1R'\n",
       "\\item 'TIGD6'\n",
       "\\item 'C1D'\n",
       "\\item 'LARS2'\n",
       "\\item 'KDSR'\n",
       "\\item 'PLRG1'\n",
       "\\item 'Population'\n",
       "\\end{enumerate*}\n"
      ],
      "text/markdown": [
       "1. 'ID'\n",
       "2. 'Beta'\n",
       "3. 'CSF1R'\n",
       "4. 'TIGD6'\n",
       "5. 'C1D'\n",
       "6. 'LARS2'\n",
       "7. 'KDSR'\n",
       "8. 'PLRG1'\n",
       "9. 'Population'\n",
       "\n",
       "\n"
      ],
      "text/plain": [
       "[1] \"ID\"         \"Beta\"       \"CSF1R\"      \"TIGD6\"      \"C1D\"       \n",
       "[6] \"LARS2\"      \"KDSR\"       \"PLRG1\"      \"Population\""
      ]
     },
     "metadata": {},
     "output_type": "display_data"
    }
   ],
   "source": [
    "# Load 1000 genomes IDs\n",
    "KG_IDs = read.csv(\"../1000Genomes_samples.tsv\", sep=\"\\t\")\n",
    "KG_IDs = KG_IDs[,c('Sample.name', 'Population.code')]\n",
    "colnames(KG_IDs) = c('ID', 'Population')\n",
    "\n",
    "# Read in expression files for Subpopulation based Analysis\n",
    "real_expression <- read.csv(\"../GeneExpressionFiles/SubPopulationSignificant.txt\", sep=\"\\t\")\n",
    "\n",
    "# read genotypes and expression. get linear regression and obtain residuals\n",
    "genos = read.csv(\"../1000Genomes_Beta_Genotypes/D2S441_Mem_Genotypes.txt\", sep='\\t')\n",
    "\n",
    "colnames(genos) <- c('ID','Beta')\n",
    "\n",
    "# Merge Dataframes\n",
    "df_merge <- merge(genos,real_expression,by=\"ID\") #Merge STR and Gene Expression\n",
    "df_final = merge(df_merge,KG_IDs, by=\"ID\") # Merge STR-Expression with 1000 genomes IDs and Population \n",
    "names(df_final)"
   ]
  },
  {
   "cell_type": "code",
   "execution_count": 159,
   "metadata": {
    "vscode": {
     "languageId": "r"
    }
   },
   "outputs": [
    {
     "name": "stdout",
     "output_type": "stream",
     "text": [
      "\n",
      "Call:\n",
      "lm(formula = Beta ~ C1D, data = df_final)\n",
      "\n",
      "Residuals:\n",
      "    Min      1Q  Median      3Q     Max \n",
      "-4.5623 -2.0150  0.2601  1.1467  5.1303 \n",
      "\n",
      "Coefficients:\n",
      "            Estimate Std. Error t value Pr(>|t|)    \n",
      "(Intercept) 23.23438    0.62372  37.251   <2e-16 ***\n",
      "C1D          0.08185    0.03245   2.522   0.0121 *  \n",
      "---\n",
      "Signif. codes:  0 ‘***’ 0.001 ‘**’ 0.01 ‘*’ 0.05 ‘.’ 0.1 ‘ ’ 1\n",
      "\n",
      "Residual standard error: 2.215 on 370 degrees of freedom\n",
      "Multiple R-squared:  0.0169,\tAdjusted R-squared:  0.01424 \n",
      "F-statistic: 6.361 on 1 and 370 DF,  p-value: 0.01208\n",
      "\n",
      "           C1D\n",
      "Beta 0.1300059\n"
     ]
    }
   ],
   "source": [
    "# Linear model Cumulative (TO DOUBLE CHECK RESULTS) LOOKS GOOD\n",
    "model = lm(Beta~C1D, data=df_final)\n",
    "print(summary(model))\n",
    "print(cor(df_final[\"Beta\"], df_final[\"C1D\"]))"
   ]
  },
  {
   "cell_type": "code",
   "execution_count": 160,
   "metadata": {
    "vscode": {
     "languageId": "r"
    }
   },
   "outputs": [
    {
     "data": {
      "text/html": [
       "<style>\n",
       ".list-inline {list-style: none; margin:0; padding: 0}\n",
       ".list-inline>li {display: inline-block}\n",
       ".list-inline>li:not(:last-child)::after {content: \"\\00b7\"; padding: 0 .5ex}\n",
       "</style>\n",
       "<ol class=list-inline><li>70</li><li>9</li></ol>\n"
      ],
      "text/latex": [
       "\\begin{enumerate*}\n",
       "\\item 70\n",
       "\\item 9\n",
       "\\end{enumerate*}\n"
      ],
      "text/markdown": [
       "1. 70\n",
       "2. 9\n",
       "\n",
       "\n"
      ],
      "text/plain": [
       "[1] 70  9"
      ]
     },
     "metadata": {},
     "output_type": "display_data"
    },
    {
     "name": "stdout",
     "output_type": "stream",
     "text": [
      "\n",
      "Call:\n",
      "lm(formula = Beta ~ C1D, data = CEU)\n",
      "\n",
      "Residuals:\n",
      "    Min      1Q  Median      3Q     Max \n",
      "-3.3517 -1.8150  0.3726  1.1490  4.0982 \n",
      "\n",
      "Coefficients:\n",
      "            Estimate Std. Error t value Pr(>|t|)    \n",
      "(Intercept) 23.03172    1.13447  20.302   <2e-16 ***\n",
      "C1D          0.09138    0.05918   1.544    0.127    \n",
      "---\n",
      "Signif. codes:  0 ‘***’ 0.001 ‘**’ 0.01 ‘*’ 0.05 ‘.’ 0.1 ‘ ’ 1\n",
      "\n",
      "Residual standard error: 1.949 on 68 degrees of freedom\n",
      "Multiple R-squared:  0.03388,\tAdjusted R-squared:  0.01967 \n",
      "F-statistic: 2.385 on 1 and 68 DF,  p-value: 0.1272\n",
      "\n",
      "           C1D\n",
      "Beta 0.1840611\n"
     ]
    }
   ],
   "source": [
    "# ONLY CHNANGE POPULATION (SAME GENE, SAME BETA)\n",
    "CEU = subset(df_final, Population == 'YRI')\n",
    "dim(CEU)\n",
    "model = lm(Beta~C1D, data=CEU)\n",
    "print(summary(model))\n",
    "print(cor(CEU[\"Beta\"], CEU[\"C1D\"]))"
   ]
  },
  {
   "cell_type": "markdown",
   "metadata": {},
   "source": [
    "### D3S1358 by subpopulation for LARS2"
   ]
  },
  {
   "cell_type": "code",
   "execution_count": 161,
   "metadata": {
    "vscode": {
     "languageId": "r"
    }
   },
   "outputs": [
    {
     "data": {
      "text/html": [
       "<style>\n",
       ".list-inline {list-style: none; margin:0; padding: 0}\n",
       ".list-inline>li {display: inline-block}\n",
       ".list-inline>li:not(:last-child)::after {content: \"\\00b7\"; padding: 0 .5ex}\n",
       "</style>\n",
       "<ol class=list-inline><li>'ID'</li><li>'Beta'</li><li>'CSF1R'</li><li>'TIGD6'</li><li>'C1D'</li><li>'LARS2'</li><li>'KDSR'</li><li>'PLRG1'</li><li>'Population'</li></ol>\n"
      ],
      "text/latex": [
       "\\begin{enumerate*}\n",
       "\\item 'ID'\n",
       "\\item 'Beta'\n",
       "\\item 'CSF1R'\n",
       "\\item 'TIGD6'\n",
       "\\item 'C1D'\n",
       "\\item 'LARS2'\n",
       "\\item 'KDSR'\n",
       "\\item 'PLRG1'\n",
       "\\item 'Population'\n",
       "\\end{enumerate*}\n"
      ],
      "text/markdown": [
       "1. 'ID'\n",
       "2. 'Beta'\n",
       "3. 'CSF1R'\n",
       "4. 'TIGD6'\n",
       "5. 'C1D'\n",
       "6. 'LARS2'\n",
       "7. 'KDSR'\n",
       "8. 'PLRG1'\n",
       "9. 'Population'\n",
       "\n",
       "\n"
      ],
      "text/plain": [
       "[1] \"ID\"         \"Beta\"       \"CSF1R\"      \"TIGD6\"      \"C1D\"       \n",
       "[6] \"LARS2\"      \"KDSR\"       \"PLRG1\"      \"Population\""
      ]
     },
     "metadata": {},
     "output_type": "display_data"
    }
   ],
   "source": [
    "# Load 1000 genomes IDs\n",
    "KG_IDs = read.csv(\"../1000Genomes_samples.tsv\", sep=\"\\t\")\n",
    "KG_IDs = KG_IDs[,c('Sample.name', 'Population.code')]\n",
    "colnames(KG_IDs) = c('ID', 'Population')\n",
    "\n",
    "# Read in expression files for Subpopulation based Analysis\n",
    "real_expression <- read.csv(\"../GeneExpressionFiles/SubPopulationSignificant.txt\", sep=\"\\t\")\n",
    "\n",
    "# read genotypes and expression. get linear regression and obtain residuals\n",
    "genos = read.csv(\"../1000Genomes_Beta_Genotypes/D3S1358_Mem_Genotypes.txt\", sep='\\t')\n",
    "\n",
    "colnames(genos) <- c('ID','Beta')\n",
    "\n",
    "# Merge Dataframes\n",
    "df_merge <- merge(genos,real_expression,by=\"ID\") #Merge STR and Gene Expression\n",
    "df_final = merge(df_merge,KG_IDs, by=\"ID\") # Merge STR-Expression with 1000 genomes IDs and Population \n",
    "names(df_final)"
   ]
  },
  {
   "cell_type": "code",
   "execution_count": 162,
   "metadata": {
    "vscode": {
     "languageId": "r"
    }
   },
   "outputs": [
    {
     "name": "stdout",
     "output_type": "stream",
     "text": [
      "\n",
      "Call:\n",
      "lm(formula = Beta ~ LARS2, data = df_final)\n",
      "\n",
      "Residuals:\n",
      "    Min      1Q  Median      3Q     Max \n",
      "-5.6554 -1.1735 -0.0157  1.2378  6.2948 \n",
      "\n",
      "Coefficients:\n",
      "            Estimate Std. Error t value Pr(>|t|)    \n",
      "(Intercept) 34.57013    0.53812  64.242  < 2e-16 ***\n",
      "LARS2       -0.27646    0.05592  -4.943 1.17e-06 ***\n",
      "---\n",
      "Signif. codes:  0 ‘***’ 0.001 ‘**’ 0.01 ‘*’ 0.05 ‘.’ 0.1 ‘ ’ 1\n",
      "\n",
      "Residual standard error: 1.719 on 370 degrees of freedom\n",
      "Multiple R-squared:  0.06195,\tAdjusted R-squared:  0.05942 \n",
      "F-statistic: 24.44 on 1 and 370 DF,  p-value: 1.166e-06\n",
      "\n",
      "          LARS2\n",
      "Beta -0.2489054\n"
     ]
    }
   ],
   "source": [
    "# Linear model Cumulative (TO DOUBLE CHECK RESULTS) LOOKS GOOD\n",
    "model = lm(Beta~LARS2, data=df_final)\n",
    "print(summary(model))\n",
    "print(cor(df_final[\"Beta\"], df_final[\"LARS2\"]))"
   ]
  },
  {
   "cell_type": "code",
   "execution_count": 163,
   "metadata": {
    "vscode": {
     "languageId": "r"
    }
   },
   "outputs": [
    {
     "data": {
      "text/html": [
       "<style>\n",
       ".list-inline {list-style: none; margin:0; padding: 0}\n",
       ".list-inline>li {display: inline-block}\n",
       ".list-inline>li:not(:last-child)::after {content: \"\\00b7\"; padding: 0 .5ex}\n",
       "</style>\n",
       "<ol class=list-inline><li>70</li><li>9</li></ol>\n"
      ],
      "text/latex": [
       "\\begin{enumerate*}\n",
       "\\item 70\n",
       "\\item 9\n",
       "\\end{enumerate*}\n"
      ],
      "text/markdown": [
       "1. 70\n",
       "2. 9\n",
       "\n",
       "\n"
      ],
      "text/plain": [
       "[1] 70  9"
      ]
     },
     "metadata": {},
     "output_type": "display_data"
    },
    {
     "name": "stdout",
     "output_type": "stream",
     "text": [
      "\n",
      "Call:\n",
      "lm(formula = Beta ~ LARS2, data = CEU)\n",
      "\n",
      "Residuals:\n",
      "    Min      1Q  Median      3Q     Max \n",
      "-5.4124 -0.8312  0.1956  1.2140  2.5876 \n",
      "\n",
      "Coefficients:\n",
      "            Estimate Std. Error t value Pr(>|t|)    \n",
      "(Intercept)  32.7870     1.0409  31.500   <2e-16 ***\n",
      "LARS2        -0.1173     0.1046  -1.122    0.266    \n",
      "---\n",
      "Signif. codes:  0 ‘***’ 0.001 ‘**’ 0.01 ‘*’ 0.05 ‘.’ 0.1 ‘ ’ 1\n",
      "\n",
      "Residual standard error: 1.675 on 68 degrees of freedom\n",
      "Multiple R-squared:  0.01817,\tAdjusted R-squared:  0.003727 \n",
      "F-statistic: 1.258 on 1 and 68 DF,  p-value: 0.266\n",
      "\n",
      "          LARS2\n",
      "Beta -0.1347803\n"
     ]
    }
   ],
   "source": [
    "# ONLY CHNANGE POPULATION (SAME GENE, SAME BETA)\n",
    "CEU = subset(df_final, Population == 'YRI')\n",
    "dim(CEU)\n",
    "model = lm(Beta~LARS2, data=CEU)\n",
    "print(summary(model))\n",
    "print(cor(CEU[\"Beta\"], CEU[\"LARS2\"]))"
   ]
  },
  {
   "cell_type": "markdown",
   "metadata": {},
   "source": [
    "### D18S51 by subpopulation for KDSR"
   ]
  },
  {
   "cell_type": "code",
   "execution_count": 164,
   "metadata": {
    "vscode": {
     "languageId": "r"
    }
   },
   "outputs": [
    {
     "data": {
      "text/html": [
       "<style>\n",
       ".list-inline {list-style: none; margin:0; padding: 0}\n",
       ".list-inline>li {display: inline-block}\n",
       ".list-inline>li:not(:last-child)::after {content: \"\\00b7\"; padding: 0 .5ex}\n",
       "</style>\n",
       "<ol class=list-inline><li>'ID'</li><li>'Beta'</li><li>'CSF1R'</li><li>'TIGD6'</li><li>'C1D'</li><li>'LARS2'</li><li>'KDSR'</li><li>'PLRG1'</li><li>'Population'</li></ol>\n"
      ],
      "text/latex": [
       "\\begin{enumerate*}\n",
       "\\item 'ID'\n",
       "\\item 'Beta'\n",
       "\\item 'CSF1R'\n",
       "\\item 'TIGD6'\n",
       "\\item 'C1D'\n",
       "\\item 'LARS2'\n",
       "\\item 'KDSR'\n",
       "\\item 'PLRG1'\n",
       "\\item 'Population'\n",
       "\\end{enumerate*}\n"
      ],
      "text/markdown": [
       "1. 'ID'\n",
       "2. 'Beta'\n",
       "3. 'CSF1R'\n",
       "4. 'TIGD6'\n",
       "5. 'C1D'\n",
       "6. 'LARS2'\n",
       "7. 'KDSR'\n",
       "8. 'PLRG1'\n",
       "9. 'Population'\n",
       "\n",
       "\n"
      ],
      "text/plain": [
       "[1] \"ID\"         \"Beta\"       \"CSF1R\"      \"TIGD6\"      \"C1D\"       \n",
       "[6] \"LARS2\"      \"KDSR\"       \"PLRG1\"      \"Population\""
      ]
     },
     "metadata": {},
     "output_type": "display_data"
    }
   ],
   "source": [
    "# Load 1000 genomes IDs\n",
    "KG_IDs = read.csv(\"../1000Genomes_samples.tsv\", sep=\"\\t\")\n",
    "KG_IDs = KG_IDs[,c('Sample.name', 'Population.code')]\n",
    "colnames(KG_IDs) = c('ID', 'Population')\n",
    "\n",
    "# Read in expression files for Subpopulation based Analysis\n",
    "real_expression <- read.csv(\"../GeneExpressionFiles/SubPopulationSignificant.txt\", sep=\"\\t\")\n",
    "\n",
    "# read genotypes and expression. get linear regression and obtain residuals\n",
    "genos = read.csv(\"../1000Genomes_Beta_Genotypes/D18S51_Mem_Genotypes.txt\", sep='\\t')\n",
    "\n",
    "colnames(genos) <- c('ID','Beta')\n",
    "\n",
    "# Merge Dataframes\n",
    "df_merge <- merge(genos,real_expression,by=\"ID\") #Merge STR and Gene Expression\n",
    "df_final = merge(df_merge,KG_IDs, by=\"ID\") # Merge STR-Expression with 1000 genomes IDs and Population \n",
    "names(df_final)"
   ]
  },
  {
   "cell_type": "code",
   "execution_count": 165,
   "metadata": {
    "vscode": {
     "languageId": "r"
    }
   },
   "outputs": [
    {
     "name": "stdout",
     "output_type": "stream",
     "text": [
      "\n",
      "Call:\n",
      "lm(formula = Beta ~ KDSR, data = df_final)\n",
      "\n",
      "Residuals:\n",
      "    Min      1Q  Median      3Q     Max \n",
      "-7.9749 -2.1731 -0.0744  2.0189 10.2726 \n",
      "\n",
      "Coefficients:\n",
      "            Estimate Std. Error t value Pr(>|t|)    \n",
      "(Intercept)  31.7953     1.0256  31.003   <2e-16 ***\n",
      "KDSR          0.2874     0.1273   2.257   0.0246 *  \n",
      "---\n",
      "Signif. codes:  0 ‘***’ 0.001 ‘**’ 0.01 ‘*’ 0.05 ‘.’ 0.1 ‘ ’ 1\n",
      "\n",
      "Residual standard error: 2.978 on 370 degrees of freedom\n",
      "Multiple R-squared:  0.01358,\tAdjusted R-squared:  0.01092 \n",
      "F-statistic: 5.096 on 1 and 370 DF,  p-value: 0.02457\n",
      "\n",
      "          KDSR\n",
      "Beta 0.1165546\n"
     ]
    }
   ],
   "source": [
    "# Linear model Cumulative (TO DOUBLE CHECK RESULTS) LOOKS GOOD\n",
    "model = lm(Beta~KDSR, data=df_final)\n",
    "print(summary(model))\n",
    "print(cor(df_final[\"Beta\"], df_final[\"KDSR\"]))"
   ]
  },
  {
   "cell_type": "code",
   "execution_count": 166,
   "metadata": {
    "vscode": {
     "languageId": "r"
    }
   },
   "outputs": [
    {
     "data": {
      "text/html": [
       "<style>\n",
       ".list-inline {list-style: none; margin:0; padding: 0}\n",
       ".list-inline>li {display: inline-block}\n",
       ".list-inline>li:not(:last-child)::after {content: \"\\00b7\"; padding: 0 .5ex}\n",
       "</style>\n",
       "<ol class=list-inline><li>70</li><li>9</li></ol>\n"
      ],
      "text/latex": [
       "\\begin{enumerate*}\n",
       "\\item 70\n",
       "\\item 9\n",
       "\\end{enumerate*}\n"
      ],
      "text/markdown": [
       "1. 70\n",
       "2. 9\n",
       "\n",
       "\n"
      ],
      "text/plain": [
       "[1] 70  9"
      ]
     },
     "metadata": {},
     "output_type": "display_data"
    },
    {
     "name": "stdout",
     "output_type": "stream",
     "text": [
      "\n",
      "Call:\n",
      "lm(formula = Beta ~ KDSR, data = CEU)\n",
      "\n",
      "Residuals:\n",
      "   Min     1Q Median     3Q    Max \n",
      "-7.022 -1.546  0.177  1.812  4.298 \n",
      "\n",
      "Coefficients:\n",
      "            Estimate Std. Error t value Pr(>|t|)    \n",
      "(Intercept)  30.3212     2.0083  15.098  < 2e-16 ***\n",
      "KDSR          0.7557     0.2435   3.104  0.00279 ** \n",
      "---\n",
      "Signif. codes:  0 ‘***’ 0.001 ‘**’ 0.01 ‘*’ 0.05 ‘.’ 0.1 ‘ ’ 1\n",
      "\n",
      "Residual standard error: 2.468 on 68 degrees of freedom\n",
      "Multiple R-squared:  0.1241,\tAdjusted R-squared:  0.1112 \n",
      "F-statistic: 9.632 on 1 and 68 DF,  p-value: 0.002786\n",
      "\n",
      "          KDSR\n",
      "Beta 0.3522365\n"
     ]
    }
   ],
   "source": [
    "# ONLY CHNANGE POPULATION (SAME GENE, SAME BETA)\n",
    "CEU = subset(df_final, Population == 'YRI')\n",
    "dim(CEU)\n",
    "model = lm(Beta~KDSR, data=CEU)\n",
    "print(summary(model))\n",
    "print(cor(CEU[\"Beta\"], CEU[\"KDSR\"]))"
   ]
  },
  {
   "cell_type": "markdown",
   "metadata": {},
   "source": [
    "### FGA by subpopulation for PLRG1"
   ]
  },
  {
   "cell_type": "code",
   "execution_count": 167,
   "metadata": {
    "vscode": {
     "languageId": "r"
    }
   },
   "outputs": [
    {
     "data": {
      "text/html": [
       "<style>\n",
       ".list-inline {list-style: none; margin:0; padding: 0}\n",
       ".list-inline>li {display: inline-block}\n",
       ".list-inline>li:not(:last-child)::after {content: \"\\00b7\"; padding: 0 .5ex}\n",
       "</style>\n",
       "<ol class=list-inline><li>'ID'</li><li>'Beta'</li><li>'CSF1R'</li><li>'TIGD6'</li><li>'C1D'</li><li>'LARS2'</li><li>'KDSR'</li><li>'PLRG1'</li><li>'Population'</li></ol>\n"
      ],
      "text/latex": [
       "\\begin{enumerate*}\n",
       "\\item 'ID'\n",
       "\\item 'Beta'\n",
       "\\item 'CSF1R'\n",
       "\\item 'TIGD6'\n",
       "\\item 'C1D'\n",
       "\\item 'LARS2'\n",
       "\\item 'KDSR'\n",
       "\\item 'PLRG1'\n",
       "\\item 'Population'\n",
       "\\end{enumerate*}\n"
      ],
      "text/markdown": [
       "1. 'ID'\n",
       "2. 'Beta'\n",
       "3. 'CSF1R'\n",
       "4. 'TIGD6'\n",
       "5. 'C1D'\n",
       "6. 'LARS2'\n",
       "7. 'KDSR'\n",
       "8. 'PLRG1'\n",
       "9. 'Population'\n",
       "\n",
       "\n"
      ],
      "text/plain": [
       "[1] \"ID\"         \"Beta\"       \"CSF1R\"      \"TIGD6\"      \"C1D\"       \n",
       "[6] \"LARS2\"      \"KDSR\"       \"PLRG1\"      \"Population\""
      ]
     },
     "metadata": {},
     "output_type": "display_data"
    }
   ],
   "source": [
    "# Load 1000 genomes IDs\n",
    "KG_IDs = read.csv(\"../1000Genomes_samples.tsv\", sep=\"\\t\")\n",
    "KG_IDs = KG_IDs[,c('Sample.name', 'Population.code')]\n",
    "colnames(KG_IDs) = c('ID', 'Population')\n",
    "\n",
    "# Read in expression files for Subpopulation based Analysis\n",
    "real_expression <- read.csv(\"../GeneExpressionFiles/SubPopulationSignificant.txt\", sep=\"\\t\")\n",
    "\n",
    "# read genotypes and expression. get linear regression and obtain residuals\n",
    "genos = read.csv(\"../1000Genomes_Beta_Genotypes/FGA_Mem_Genotypes.txt\", sep='\\t')\n",
    "\n",
    "colnames(genos) <- c('ID','Beta')\n",
    "\n",
    "# Merge Dataframes\n",
    "df_merge <- merge(genos,real_expression,by=\"ID\") #Merge STR and Gene Expression\n",
    "df_final = merge(df_merge,KG_IDs, by=\"ID\") # Merge STR-Expression with 1000 genomes IDs and Population \n",
    "names(df_final)"
   ]
  },
  {
   "cell_type": "code",
   "execution_count": 168,
   "metadata": {
    "vscode": {
     "languageId": "r"
    }
   },
   "outputs": [
    {
     "name": "stdout",
     "output_type": "stream",
     "text": [
      "\n",
      "Call:\n",
      "lm(formula = Beta ~ PLRG1, data = df_final)\n",
      "\n",
      "Residuals:\n",
      "    Min      1Q  Median      3Q     Max \n",
      "-5.8236 -1.5958 -0.1754  1.5611  8.3940 \n",
      "\n",
      "Coefficients:\n",
      "            Estimate Std. Error t value Pr(>|t|)    \n",
      "(Intercept) 45.99623    0.76436  60.176   <2e-16 ***\n",
      "PLRG1       -0.04714    0.02115  -2.229   0.0264 *  \n",
      "---\n",
      "Signif. codes:  0 ‘***’ 0.001 ‘**’ 0.01 ‘*’ 0.05 ‘.’ 0.1 ‘ ’ 1\n",
      "\n",
      "Residual standard error: 2.421 on 370 degrees of freedom\n",
      "Multiple R-squared:  0.01325,\tAdjusted R-squared:  0.01058 \n",
      "F-statistic: 4.968 on 1 and 370 DF,  p-value: 0.02641\n",
      "\n",
      "          PLRG1\n",
      "Beta -0.1151094\n"
     ]
    }
   ],
   "source": [
    "# Linear model Cumulative (TO DOUBLE CHECK RESULTS) LOOKS GOOD\n",
    "model = lm(Beta~PLRG1, data=df_final)\n",
    "print(summary(model))\n",
    "print(cor(df_final[\"Beta\"], df_final[\"PLRG1\"]))"
   ]
  },
  {
   "cell_type": "code",
   "execution_count": 169,
   "metadata": {
    "vscode": {
     "languageId": "r"
    }
   },
   "outputs": [
    {
     "data": {
      "text/html": [
       "<style>\n",
       ".list-inline {list-style: none; margin:0; padding: 0}\n",
       ".list-inline>li {display: inline-block}\n",
       ".list-inline>li:not(:last-child)::after {content: \"\\00b7\"; padding: 0 .5ex}\n",
       "</style>\n",
       "<ol class=list-inline><li>70</li><li>9</li></ol>\n"
      ],
      "text/latex": [
       "\\begin{enumerate*}\n",
       "\\item 70\n",
       "\\item 9\n",
       "\\end{enumerate*}\n"
      ],
      "text/markdown": [
       "1. 70\n",
       "2. 9\n",
       "\n",
       "\n"
      ],
      "text/plain": [
       "[1] 70  9"
      ]
     },
     "metadata": {},
     "output_type": "display_data"
    },
    {
     "name": "stdout",
     "output_type": "stream",
     "text": [
      "\n",
      "Call:\n",
      "lm(formula = Beta ~ PLRG1, data = CEU)\n",
      "\n",
      "Residuals:\n",
      "    Min      1Q  Median      3Q     Max \n",
      "-6.3958 -1.8606 -0.2118  1.3670  7.2594 \n",
      "\n",
      "Coefficients:\n",
      "            Estimate Std. Error t value Pr(>|t|)    \n",
      "(Intercept) 48.06906    1.61485  29.767   <2e-16 ***\n",
      "PLRG1       -0.07184    0.04270  -1.683   0.0971 .  \n",
      "---\n",
      "Signif. codes:  0 ‘***’ 0.001 ‘**’ 0.01 ‘*’ 0.05 ‘.’ 0.1 ‘ ’ 1\n",
      "\n",
      "Residual standard error: 2.673 on 68 degrees of freedom\n",
      "Multiple R-squared:  0.03997,\tAdjusted R-squared:  0.02585 \n",
      "F-statistic: 2.831 on 1 and 68 DF,  p-value: 0.09706\n",
      "\n",
      "          PLRG1\n",
      "Beta -0.1999144\n"
     ]
    }
   ],
   "source": [
    "# ONLY CHNANGE POPULATION (and gene if necessary)\n",
    "CEU = subset(df_final, Population == 'YRI')\n",
    "dim(CEU)\n",
    "model = lm(Beta~PLRG1, data=CEU)\n",
    "print(summary(model))\n",
    "print(cor(CEU[\"Beta\"], CEU[\"PLRG1\"]))"
   ]
  },
  {
   "cell_type": "code",
   "execution_count": null,
   "metadata": {
    "vscode": {
     "languageId": "r"
    }
   },
   "outputs": [],
   "source": []
  },
  {
   "cell_type": "code",
   "execution_count": null,
   "metadata": {
    "vscode": {
     "languageId": "r"
    }
   },
   "outputs": [],
   "source": []
  },
  {
   "cell_type": "code",
   "execution_count": null,
   "metadata": {
    "vscode": {
     "languageId": "r"
    }
   },
   "outputs": [],
   "source": []
  },
  {
   "cell_type": "code",
   "execution_count": 170,
   "metadata": {
    "vscode": {
     "languageId": "r"
    }
   },
   "outputs": [
    {
     "ename": "ERROR",
     "evalue": "Error in is.data.frame(x): object 'residuals_model' not found\n",
     "output_type": "error",
     "traceback": [
      "Error in is.data.frame(x): object 'residuals_model' not found\nTraceback:\n",
      "1. write.table(residuals_model, \"../GeneExpressionFiles/residuals_CSF1R_GBR.txt\", \n .     col.names = FALSE, row.names = FALSE)",
      "2. is.data.frame(x)"
     ]
    }
   ],
   "source": [
    "write.table(residuals_model, \"../GeneExpressionFiles/residuals_CSF1R_GBR.txt\", col.names=FALSE, row.names=FALSE)"
   ]
  },
  {
   "cell_type": "code",
   "execution_count": null,
   "metadata": {
    "vscode": {
     "languageId": "r"
    }
   },
   "outputs": [],
   "source": [
    "residuals = scan(\"../GeneExpressionFiles/residuals_CSF1R.txt\", numeric())\n",
    "\tresiduals"
   ]
  },
  {
   "cell_type": "code",
   "execution_count": null,
   "metadata": {
    "vscode": {
     "languageId": "r"
    }
   },
   "outputs": [
    {
     "data": {
      "text/html": [
       "0.313963156473075"
      ],
      "text/latex": [
       "0.313963156473075"
      ],
      "text/markdown": [
       "0.313963156473075"
      ],
      "text/plain": [
       "[1] 0.3139632"
      ]
     },
     "metadata": {},
     "output_type": "display_data"
    }
   ],
   "source": [
    "# Absolute Deviation from the Median\n",
    "deviations_from_median = df_merge$CSF1R - (-0.05407)\n",
    "deviations_from_median = sort(deviations_from_median)\n",
    "median(deviations_from_median)"
   ]
  },
  {
   "cell_type": "code",
   "execution_count": null,
   "metadata": {
    "vscode": {
     "languageId": "r"
    }
   },
   "outputs": [
    {
     "data": {
      "image/png": "[encoded data removed]",
      "text/plain": [
       "plot without title"
      ]
     },
     "metadata": {
      "image/png": {
       "height": 420,
       "width": 420
      }
     },
     "output_type": "display_data"
    }
   ],
   "source": [
    "plot(df_merge$CSF1R~df_merge$Beta)\n",
    "abline(model)"
   ]
  },
  {
   "cell_type": "code",
   "execution_count": null,
   "metadata": {
    "vscode": {
     "languageId": "r"
    }
   },
   "outputs": [],
   "source": []
  },
  {
   "cell_type": "code",
   "execution_count": null,
   "metadata": {
    "vscode": {
     "languageId": "r"
    }
   },
   "outputs": [],
   "source": []
  }
 ],
 "metadata": {
  "kernelspec": {
   "display_name": "R",
   "language": "R",
   "name": "ir"
  },
  "language_info": {
   "codemirror_mode": "r",
   "file_extension": ".r",
   "mimetype": "text/x-r-source",
   "name": "R",
   "pygments_lexer": "r",
   "version": "4.1.3"
  },
  "orig_nbformat": 4,
  "vscode": {
   "interpreter": {
    "hash": "978407d321d9a304b64835d5c8a37594f440291f3e0fb3903fa186a4f2dd6b7f"
   }
  }
 },
 "nbformat": 4,
 "nbformat_minor": 2
}
